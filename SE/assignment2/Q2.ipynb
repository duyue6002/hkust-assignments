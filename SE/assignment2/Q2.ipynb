{
 "cells": [
  {
   "cell_type": "code",
   "execution_count": 4,
   "metadata": {},
   "outputs": [],
   "source": [
    "import numpy as np\n",
    "from numpy import linalg as LA\n",
    "from numpy.linalg import inv\n",
    "import matplotlib.pyplot as plt\n",
    "from sklearn.preprocessing import normalize"
   ]
  },
  {
   "cell_type": "code",
   "execution_count": 2,
   "metadata": {},
   "outputs": [
    {
     "data": {
      "text/plain": [
       "array([[1, 1, 1],\n",
       "       [0, 1, 1],\n",
       "       [1, 0, 0],\n",
       "       [0, 1, 0],\n",
       "       [1, 0, 0],\n",
       "       [1, 0, 1],\n",
       "       [1, 1, 1],\n",
       "       [1, 1, 1],\n",
       "       [1, 0, 1],\n",
       "       [0, 2, 0],\n",
       "       [0, 1, 1]])"
      ]
     },
     "execution_count": 2,
     "metadata": {},
     "output_type": "execute_result"
    }
   ],
   "source": [
    "# Question (a) \n",
    "# Decompose 𝐴 using Singular Value Decomposition\n",
    "A = np.array([[1, 1, 1], [0, 1, 1], [1, 0, 0], [0, 1, 0], [1, 0, 0], [1, 0, 1], [1, 1, 1], [1, 1, 1], [1, 0, 1], [0, 2, 0], [0, 1, 1]])\n",
    "A"
   ]
  },
  {
   "cell_type": "code",
   "execution_count": 6,
   "metadata": {},
   "outputs": [
    {
     "data": {
      "text/plain": [
       "array([[0.37796447, 0.31622777, 0.37796447],\n",
       "       [0.        , 0.31622777, 0.37796447],\n",
       "       [0.37796447, 0.        , 0.        ],\n",
       "       [0.        , 0.31622777, 0.        ],\n",
       "       [0.37796447, 0.        , 0.        ],\n",
       "       [0.37796447, 0.        , 0.37796447],\n",
       "       [0.37796447, 0.31622777, 0.37796447],\n",
       "       [0.37796447, 0.31622777, 0.37796447],\n",
       "       [0.37796447, 0.        , 0.37796447],\n",
       "       [0.        , 0.63245553, 0.        ],\n",
       "       [0.        , 0.31622777, 0.37796447]])"
      ]
     },
     "execution_count": 6,
     "metadata": {},
     "output_type": "execute_result"
    }
   ],
   "source": [
    "normalize(A, axis=0)"
   ]
  },
  {
   "cell_type": "code",
   "execution_count": 3,
   "metadata": {},
   "outputs": [
    {
     "data": {
      "text/plain": [
       "((11, 11), (3,), (3, 3), (11, 3))"
      ]
     },
     "execution_count": 3,
     "metadata": {},
     "output_type": "execute_result"
    }
   ],
   "source": [
    "U, s, Vh = np.linalg.svd(A, full_matrices=True)\n",
    "U.shape, s.shape, Vh.shape, A.shape"
   ]
  },
  {
   "cell_type": "code",
   "execution_count": 4,
   "metadata": {},
   "outputs": [
    {
     "data": {
      "text/plain": [
       "array([[-0.42012157, -0.07479925, -0.04597244,  0.04956739, -0.25010122,\n",
       "        -0.44801274, -0.39844536, -0.39844536, -0.44801274,  0.09913478,\n",
       "        -0.14834414],\n",
       "       [-0.29948676,  0.20009226,  0.40782766, -0.2842809 ,  0.25310547,\n",
       "         0.14370966, -0.14057124, -0.14057124,  0.14370966, -0.5685618 ,\n",
       "        -0.39367672],\n",
       "       [-0.12063481, -0.27489151, -0.4538001 , -0.25974484, -0.42359716,\n",
       "         0.17181426, -0.08793058, -0.08793058,  0.17181426, -0.51948968,\n",
       "         0.33566658],\n",
       "       [-0.157561  ,  0.30464762, -0.2006467 ,  0.85254149, -0.01197476,\n",
       "         0.11201824, -0.03544027, -0.03544027,  0.11201824, -0.29491702,\n",
       "        -0.02346551],\n",
       "       [-0.12063481, -0.27489151, -0.4538001 , -0.02032042,  0.81739549,\n",
       "        -0.06802038, -0.0883408 , -0.0883408 , -0.06802038, -0.04064085,\n",
       "         0.09426371],\n",
       "       [-0.26256057, -0.37944687,  0.15467426,  0.13135372, -0.0299369 ,\n",
       "         0.7800456 , -0.08860068, -0.08860068, -0.2199544 ,  0.26270745,\n",
       "        -0.05866378],\n",
       "       [-0.42012157, -0.07479925, -0.04597244, -0.01610479, -0.04191166,\n",
       "        -0.10793616,  0.87595905, -0.12404095, -0.10793616, -0.03220957,\n",
       "        -0.08212929],\n",
       "       [-0.42012157, -0.07479925, -0.04597244, -0.01610479, -0.04191166,\n",
       "        -0.10793616, -0.12404095,  0.87595905, -0.10793616, -0.03220957,\n",
       "        -0.08212929],\n",
       "       [-0.26256057, -0.37944687,  0.15467426,  0.13135372, -0.0299369 ,\n",
       "        -0.2199544 , -0.08860068, -0.08860068,  0.7800456 ,  0.26270745,\n",
       "        -0.05866378],\n",
       "       [-0.315122  ,  0.60929523, -0.40129339, -0.29491702, -0.02394952,\n",
       "         0.22403648, -0.07088054, -0.07088054,  0.22403648,  0.41016596,\n",
       "        -0.04693102],\n",
       "       [-0.29948676,  0.20009226,  0.40782766,  0.00421564,  0.14069285,\n",
       "        -0.03991578, -0.03570015, -0.03570015, -0.03991578,  0.00843127,\n",
       "         0.823607  ]])"
      ]
     },
     "execution_count": 4,
     "metadata": {},
     "output_type": "execute_result"
    }
   ],
   "source": [
    "U"
   ]
  },
  {
   "cell_type": "code",
   "execution_count": 5,
   "metadata": {},
   "outputs": [
    {
     "data": {
      "text/plain": [
       "array([[4.09887197, 0.        , 0.        ],\n",
       "       [0.        , 2.3615708 , 0.        ],\n",
       "       [0.        , 0.        , 1.27366868],\n",
       "       [0.        , 0.        , 0.        ],\n",
       "       [0.        , 0.        , 0.        ],\n",
       "       [0.        , 0.        , 0.        ],\n",
       "       [0.        , 0.        , 0.        ],\n",
       "       [0.        , 0.        , 0.        ],\n",
       "       [0.        , 0.        , 0.        ],\n",
       "       [0.        , 0.        , 0.        ],\n",
       "       [0.        , 0.        , 0.        ]])"
      ]
     },
     "execution_count": 5,
     "metadata": {},
     "output_type": "execute_result"
    }
   ],
   "source": [
    "S = np.zeros((11, 3))\n",
    "S[:3,:3] = np.diag(s)\n",
    "S"
   ]
  },
  {
   "cell_type": "code",
   "execution_count": 6,
   "metadata": {},
   "outputs": [
    {
     "data": {
      "text/plain": [
       "array([[-0.49446664, -0.64917576, -0.57799098],\n",
       "       [-0.64582238,  0.71944692, -0.25555741],\n",
       "       [-0.58173551, -0.24691489,  0.77499473]])"
      ]
     },
     "execution_count": 6,
     "metadata": {},
     "output_type": "execute_result"
    }
   ],
   "source": [
    "V = Vh.T\n",
    "V"
   ]
  },
  {
   "cell_type": "code",
   "execution_count": 7,
   "metadata": {},
   "outputs": [
    {
     "data": {
      "text/plain": [
       "True"
      ]
     },
     "execution_count": 7,
     "metadata": {},
     "output_type": "execute_result"
    }
   ],
   "source": [
    "np.allclose(A, np.dot(np.dot(U, S), Vh))"
   ]
  },
  {
   "cell_type": "code",
   "execution_count": 8,
   "metadata": {},
   "outputs": [
    {
     "data": {
      "text/plain": [
       "(11,)"
      ]
     },
     "execution_count": 8,
     "metadata": {},
     "output_type": "execute_result"
    }
   ],
   "source": [
    "# Question (b)\n",
    "q = np.array([0,0,0,0,0,1,0,0,0,1,1]).T\n",
    "q.shape"
   ]
  },
  {
   "cell_type": "code",
   "execution_count": 9,
   "metadata": {
    "scrolled": true
   },
   "outputs": [
    {
     "data": {
      "text/plain": [
       "array([1., 3., 2.])"
      ]
     },
     "execution_count": 9,
     "metadata": {},
     "output_type": "execute_result"
    }
   ],
   "source": [
    "np.inner(np.dot(np.dot(U, S), Vh).T, q)"
   ]
  },
  {
   "cell_type": "code",
   "execution_count": 10,
   "metadata": {},
   "outputs": [
    {
     "data": {
      "text/plain": [
       "array([1, 3, 2])"
      ]
     },
     "execution_count": 10,
     "metadata": {},
     "output_type": "execute_result"
    }
   ],
   "source": [
    "np.inner(A.T, q)"
   ]
  },
  {
   "cell_type": "code",
   "execution_count": 11,
   "metadata": {},
   "outputs": [],
   "source": [
    "# np.allclose(np.inner(A_norm.T, q), np.inner(np.dot(np.dot(U, S), Vh).T, q))"
   ]
  },
  {
   "cell_type": "code",
   "execution_count": 12,
   "metadata": {},
   "outputs": [
    {
     "data": {
      "text/plain": [
       "array([[-0.42012157, -0.07479925],\n",
       "       [-0.29948676,  0.20009226],\n",
       "       [-0.12063481, -0.27489151],\n",
       "       [-0.157561  ,  0.30464762],\n",
       "       [-0.12063481, -0.27489151],\n",
       "       [-0.26256057, -0.37944687],\n",
       "       [-0.42012157, -0.07479925],\n",
       "       [-0.42012157, -0.07479925],\n",
       "       [-0.26256057, -0.37944687],\n",
       "       [-0.315122  ,  0.60929523],\n",
       "       [-0.29948676,  0.20009226]])"
      ]
     },
     "execution_count": 12,
     "metadata": {},
     "output_type": "execute_result"
    }
   ],
   "source": [
    "# Question (c)\n",
    "U2 = U[:,:2]\n",
    "U2"
   ]
  },
  {
   "cell_type": "code",
   "execution_count": 13,
   "metadata": {},
   "outputs": [
    {
     "data": {
      "text/plain": [
       "array([[4.09887197, 0.        , 0.        ],\n",
       "       [0.        , 2.3615708 , 0.        ],\n",
       "       [0.        , 0.        , 0.        ],\n",
       "       [0.        , 0.        , 0.        ],\n",
       "       [0.        , 0.        , 0.        ],\n",
       "       [0.        , 0.        , 0.        ],\n",
       "       [0.        , 0.        , 0.        ],\n",
       "       [0.        , 0.        , 0.        ],\n",
       "       [0.        , 0.        , 0.        ],\n",
       "       [0.        , 0.        , 0.        ],\n",
       "       [0.        , 0.        , 0.        ]])"
      ]
     },
     "execution_count": 13,
     "metadata": {},
     "output_type": "execute_result"
    }
   ],
   "source": [
    "S2 = np.zeros((11, 3))\n",
    "S2[:2,:2] = np.diag(s[:2])\n",
    "S2"
   ]
  },
  {
   "cell_type": "code",
   "execution_count": 14,
   "metadata": {},
   "outputs": [
    {
     "data": {
      "text/plain": [
       "array([[-0.49446664, -0.64917576, -0.57799098],\n",
       "       [-0.64582238,  0.71944692, -0.25555741]])"
      ]
     },
     "execution_count": 14,
     "metadata": {},
     "output_type": "execute_result"
    }
   ],
   "source": [
    "V2 = V[:2,:]\n",
    "V2"
   ]
  },
  {
   "cell_type": "code",
   "execution_count": 15,
   "metadata": {},
   "outputs": [
    {
     "data": {
      "text/plain": [
       "array([[-0.49446664, -0.64582238],\n",
       "       [-0.64917576,  0.71944692],\n",
       "       [-0.57799098, -0.25555741]])"
      ]
     },
     "execution_count": 15,
     "metadata": {},
     "output_type": "execute_result"
    }
   ],
   "source": [
    "Vh2 = V2.T\n",
    "Vh2"
   ]
  },
  {
   "cell_type": "code",
   "execution_count": 16,
   "metadata": {},
   "outputs": [
    {
     "data": {
      "text/plain": [
       "array([[ 0.96615652,  0.98503618,  1.04537878],\n",
       "       [ 0.30023009,  1.13274606,  0.59743881],\n",
       "       [ 0.66592643, -0.14770988,  0.44793996],\n",
       "       [-0.14770988,  0.93469041,  0.19805565],\n",
       "       [ 0.66592643, -0.14770988,  0.44793996],\n",
       "       [ 1.11386639,  0.05034577,  0.84732313],\n",
       "       [ 0.96615652,  0.98503618,  1.04537878],\n",
       "       [ 0.96615652,  0.98503618,  1.04537878],\n",
       "       [ 1.11386639,  0.05034577,  0.84732313],\n",
       "       [-0.29541976,  1.86938082,  0.3961113 ],\n",
       "       [ 0.30023009,  1.13274606,  0.59743881]])"
      ]
     },
     "execution_count": 16,
     "metadata": {},
     "output_type": "execute_result"
    }
   ],
   "source": [
    "A2 = np.dot(np.dot(U, S2), Vh)\n",
    "A2"
   ]
  },
  {
   "cell_type": "code",
   "execution_count": 17,
   "metadata": {
    "scrolled": true
   },
   "outputs": [
    {
     "data": {
      "text/plain": [
       "array([[0.24396956, 0.        ],\n",
       "       [0.        , 0.42344697]])"
      ]
     },
     "execution_count": 17,
     "metadata": {},
     "output_type": "execute_result"
    }
   ],
   "source": [
    "# Question (d)\n",
    "S2_inv = inv(S2[:2,:2])\n",
    "S2_inv"
   ]
  },
  {
   "cell_type": "code",
   "execution_count": 18,
   "metadata": {},
   "outputs": [
    {
     "data": {
      "text/plain": [
       "array([-0.21400262,  0.18205705])"
      ]
     },
     "execution_count": 18,
     "metadata": {},
     "output_type": "execute_result"
    }
   ],
   "source": [
    "q2 = np.dot(np.dot(q.T, U2), S2_inv)\n",
    "q2"
   ]
  },
  {
   "cell_type": "code",
   "execution_count": 19,
   "metadata": {},
   "outputs": [
    {
     "data": {
      "image/png": "[encoded data removed]",
      "text/plain": [
       "<Figure size 432x288 with 1 Axes>"
      ]
     },
     "metadata": {
      "needs_background": "light"
     },
     "output_type": "display_data"
    }
   ],
   "source": [
    "# 6 unique terms in 2D\n",
    "plt.scatter(U2[:,0], U2[:,1])\n",
    "# document in 2D\n",
    "plt.scatter(Vh2[:,0], Vh2[:,1], c='red')\n",
    "for i, xy in enumerate(zip(Vh2[:,0], Vh2[:,1])):\n",
    "    plt.annotate(\"d%s\" % str(i+1), xy=xy, xytext=(5, -5), textcoords='offset points')\n",
    "# query q in 2D\n",
    "plt.scatter(q2[0], q2[1], c='black')\n",
    "plt.show()\n",
    "# document d2 is close to query q"
   ]
  },
  {
   "cell_type": "code",
   "execution_count": 20,
   "metadata": {},
   "outputs": [
    {
     "data": {
      "text/plain": [
       "array([1.11867672, 3.05247265, 1.84087324])"
      ]
     },
     "execution_count": 20,
     "metadata": {},
     "output_type": "execute_result"
    }
   ],
   "source": [
    "# Question (e)\n",
    "np.inner(A2.T, q)"
   ]
  },
  {
   "cell_type": "code",
   "execution_count": null,
   "metadata": {},
   "outputs": [],
   "source": []
  }
 ],
 "metadata": {
  "kernelspec": {
   "display_name": "Python 3",
   "language": "python",
   "name": "python3"
  },
  "language_info": {
   "codemirror_mode": {
    "name": "ipython",
    "version": 3
   },
   "file_extension": ".py",
   "mimetype": "text/x-python",
   "name": "python",
   "nbconvert_exporter": "python",
   "pygments_lexer": "ipython3",
   "version": "3.7.4"
  }
 },
 "nbformat": 4,
 "nbformat_minor": 2
}
