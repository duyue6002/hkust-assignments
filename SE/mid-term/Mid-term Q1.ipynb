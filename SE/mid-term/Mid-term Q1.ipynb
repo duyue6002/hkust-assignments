{
 "cells": [
  {
   "cell_type": "code",
   "execution_count": 1,
   "metadata": {},
   "outputs": [],
   "source": [
    "import numpy as np\n",
    "from sklearn.preprocessing import normalize\n",
    "from numpy import linalg\n",
    "from numpy.linalg import inv\n",
    "import matplotlib.pyplot as plt"
   ]
  },
  {
   "cell_type": "code",
   "execution_count": 2,
   "metadata": {},
   "outputs": [
    {
     "data": {
      "text/plain": [
       "array([[1, 0, 1, 0, 0, 1, 1, 1],\n",
       "       [1, 0, 0, 1, 0, 0, 0, 0],\n",
       "       [1, 0, 0, 1, 1, 0, 0, 0],\n",
       "       [1, 1, 0, 1, 0, 0, 0, 0],\n",
       "       [0, 1, 0, 0, 0, 0, 0, 0],\n",
       "       [0, 1, 0, 0, 0, 0, 0, 0],\n",
       "       [0, 1, 1, 1, 0, 0, 1, 0],\n",
       "       [0, 1, 0, 0, 0, 0, 0, 0],\n",
       "       [0, 1, 0, 0, 1, 0, 0, 0],\n",
       "       [0, 0, 1, 1, 0, 0, 0, 0],\n",
       "       [0, 0, 1, 0, 0, 0, 0, 0],\n",
       "       [0, 0, 0, 0, 1, 0, 0, 0],\n",
       "       [0, 0, 0, 0, 1, 0, 0, 1],\n",
       "       [0, 0, 0, 0, 0, 1, 2, 0],\n",
       "       [0, 0, 0, 0, 0, 1, 0, 0],\n",
       "       [0, 0, 0, 0, 0, 0, 0, 1],\n",
       "       [0, 0, 0, 0, 0, 0, 0, 1]])"
      ]
     },
     "execution_count": 2,
     "metadata": {},
     "output_type": "execute_result"
    }
   ],
   "source": [
    "# Question a)\n",
    "A = np.array([[1,0,1,0,0,1,1,1], [1,0,0,1,0,0,0,0],[1,0,0,1,1,0,0,0],[1,1,0,1,0,0,0,0],\n",
    "              [0,1,0,0,0,0,0,0],[0,1,0,0,0,0,0,0],[0,1,1,1,0,0,1,0],[0,1,0,0,0,0,0,0],\n",
    "              [0,1,0,0,1,0,0,0],[0,0,1,1,0,0,0,0],[0,0,1,0,0,0,0,0],[0,0,0,0,1,0,0,0],\n",
    "              [0,0,0,0,1,0,0,1],[0,0,0,0,0,1,2,0],[0,0,0,0,0,1,0,0],[0,0,0,0,0,0,0,1],[0,0,0,0,0,0,0,1]])\n",
    "A"
   ]
  },
  {
   "cell_type": "code",
   "execution_count": 3,
   "metadata": {},
   "outputs": [
    {
     "data": {
      "text/plain": [
       "array([[0.5       , 0.        , 0.5       , 0.        , 0.        ,\n",
       "        0.57735027, 0.40824829, 0.5       ],\n",
       "       [0.5       , 0.        , 0.        , 0.4472136 , 0.        ,\n",
       "        0.        , 0.        , 0.        ],\n",
       "       [0.5       , 0.        , 0.        , 0.4472136 , 0.5       ,\n",
       "        0.        , 0.        , 0.        ],\n",
       "       [0.5       , 0.40824829, 0.        , 0.4472136 , 0.        ,\n",
       "        0.        , 0.        , 0.        ],\n",
       "       [0.        , 0.40824829, 0.        , 0.        , 0.        ,\n",
       "        0.        , 0.        , 0.        ],\n",
       "       [0.        , 0.40824829, 0.        , 0.        , 0.        ,\n",
       "        0.        , 0.        , 0.        ],\n",
       "       [0.        , 0.40824829, 0.5       , 0.4472136 , 0.        ,\n",
       "        0.        , 0.40824829, 0.        ],\n",
       "       [0.        , 0.40824829, 0.        , 0.        , 0.        ,\n",
       "        0.        , 0.        , 0.        ],\n",
       "       [0.        , 0.40824829, 0.        , 0.        , 0.5       ,\n",
       "        0.        , 0.        , 0.        ],\n",
       "       [0.        , 0.        , 0.5       , 0.4472136 , 0.        ,\n",
       "        0.        , 0.        , 0.        ],\n",
       "       [0.        , 0.        , 0.5       , 0.        , 0.        ,\n",
       "        0.        , 0.        , 0.        ],\n",
       "       [0.        , 0.        , 0.        , 0.        , 0.5       ,\n",
       "        0.        , 0.        , 0.        ],\n",
       "       [0.        , 0.        , 0.        , 0.        , 0.5       ,\n",
       "        0.        , 0.        , 0.5       ],\n",
       "       [0.        , 0.        , 0.        , 0.        , 0.        ,\n",
       "        0.57735027, 0.81649658, 0.        ],\n",
       "       [0.        , 0.        , 0.        , 0.        , 0.        ,\n",
       "        0.57735027, 0.        , 0.        ],\n",
       "       [0.        , 0.        , 0.        , 0.        , 0.        ,\n",
       "        0.        , 0.        , 0.5       ],\n",
       "       [0.        , 0.        , 0.        , 0.        , 0.        ,\n",
       "        0.        , 0.        , 0.5       ]])"
      ]
     },
     "execution_count": 3,
     "metadata": {},
     "output_type": "execute_result"
    }
   ],
   "source": [
    "A_norm = normalize(A, axis=0)\n",
    "A_norm"
   ]
  },
  {
   "cell_type": "code",
   "execution_count": 4,
   "metadata": {},
   "outputs": [
    {
     "data": {
      "text/plain": [
       "((17, 17), (8,), (8, 8), (17, 8))"
      ]
     },
     "execution_count": 4,
     "metadata": {},
     "output_type": "execute_result"
    }
   ],
   "source": [
    "# Question b)\n",
    "U, s, Vh = np.linalg.svd(A_norm, full_matrices=True)\n",
    "U.shape, s.shape, Vh.shape, A_norm.shape"
   ]
  },
  {
   "cell_type": "code",
   "execution_count": 5,
   "metadata": {},
   "outputs": [
    {
     "data": {
      "text/plain": [
       "array([[-0.57095876, -0.38420785, -0.15767464,  0.1996219 , -0.10879471,\n",
       "        -0.17151627, -0.34296701,  0.39754535, -0.01845838,  0.11417005,\n",
       "        -0.32350869,  0.00990825, -0.03174627, -0.14291744, -0.04150248,\n",
       "        -0.04165452, -0.04165452],\n",
       "       [-0.24576484,  0.26368332,  0.05985029,  0.36621512,  0.24056984,\n",
       "        -0.14855945,  0.10484259, -0.02437994,  0.57827043, -0.01473762,\n",
       "         0.07260805,  0.28072451,  0.09914366,  0.14370107,  0.35458472,\n",
       "        -0.18158086, -0.18158086],\n",
       "       [-0.30416853,  0.39265773, -0.23305036,  0.19086574,  0.33429677,\n",
       "         0.23442813,  0.02588033,  0.03525202, -0.31848058,  0.39684824,\n",
       "         0.27298021, -0.26479953, -0.14978161, -0.16368568,  0.12122159,\n",
       "         0.11501792,  0.11501792],\n",
       "       [-0.30974153,  0.3752339 ,  0.14111185,  0.04375227,  0.18574352,\n",
       "        -0.39454532, -0.00342276, -0.01407721, -0.24133147, -0.49628068,\n",
       "        -0.02207957, -0.02583323,  0.08238422,  0.16290205, -0.43430383,\n",
       "         0.10821745,  0.10821745],\n",
       "       [-0.06397669,  0.11155058,  0.08126156, -0.32246285, -0.05482632,\n",
       "        -0.24598587, -0.10826535,  0.01030273,  0.07560658,  0.44783526,\n",
       "         0.22030904,  0.36429972,  0.5224951 , -0.24500387, -0.16411119,\n",
       "         0.15819538,  0.15819538],\n",
       "       [-0.06397669,  0.11155058,  0.08126156, -0.32246285, -0.05482632,\n",
       "        -0.24598587, -0.10826535,  0.01030273, -0.24820225,  0.19124277,\n",
       "        -0.24939393, -0.07188668,  0.0203887 ,  0.57120621,  0.5369081 ,\n",
       "         0.09227539,  0.09227539],\n",
       "       [-0.40301335,  0.10572149,  0.37844935, -0.23475005, -0.3114008 ,\n",
       "         0.16836822,  0.32837147, -0.07769607, -0.07263378, -0.23360134,\n",
       "        -0.09188951, -0.01631462, -0.01105593, -0.45669924,  0.33403899,\n",
       "         0.00525869,  0.00525869],\n",
       "       [-0.06397669,  0.11155058,  0.08126156, -0.32246285, -0.05482632,\n",
       "        -0.24598587, -0.10826535,  0.01030273, -0.11527057,  0.15266289,\n",
       "         0.27876188,  0.0670862 , -0.42368852, -0.03090081, -0.12863413,\n",
       "        -0.49077472, -0.49077472],\n",
       "       [-0.12238037,  0.240525  , -0.21163909, -0.49781222,  0.0389006 ,\n",
       "         0.1370017 , -0.18722761,  0.06993468,  0.60183149, -0.0618589 ,\n",
       "        -0.13570791, -0.31735138, -0.19052358, -0.00150433, -0.14389794,\n",
       "         0.1268278 ,  0.1268278 ],\n",
       "       [-0.23689109,  0.13389938,  0.22945899,  0.20077663, -0.34532436,\n",
       "         0.32427083, -0.03512084, -0.42990896,  0.05417539,  0.3477714 ,\n",
       "        -0.23161918,  0.02622287, -0.02069034,  0.3137818 , -0.37554148,\n",
       "        -0.04691321, -0.04691321],\n",
       "       [-0.12479915, -0.02721982,  0.1276831 ,  0.06833512, -0.37252892,\n",
       "         0.25861926, -0.32718181,  0.26640608,  0.03691677, -0.22834011,\n",
       "         0.64701738, -0.0198165 ,  0.06349254,  0.28583487,  0.08300497,\n",
       "         0.08330904,  0.08330904],\n",
       "       [-0.05840368,  0.12897441, -0.29290065, -0.17534937,  0.09372692,\n",
       "         0.38298757, -0.07896225,  0.05963196, -0.17370222, -0.17815959,\n",
       "        -0.14706512,  0.7512722 , -0.20216614,  0.07053052,  0.00530531,\n",
       "         0.04656166,  0.04656166],\n",
       "       [-0.14011258,  0.05190718, -0.58813124, -0.11811105, -0.18059535,\n",
       "         0.10411881,  0.14934869, -0.12982231, -0.10964869, -0.15682975,\n",
       "         0.00979282, -0.16912129,  0.54247133,  0.09465949,  0.01737104,\n",
       "        -0.28840739, -0.28840739],\n",
       "       [-0.33292338, -0.52221339,  0.11952726, -0.27278898,  0.41344109,\n",
       "         0.15302752,  0.4148799 , -0.00943139,  0.04554608,  0.05971564,\n",
       "         0.2076991 ,  0.00320319,  0.0214011 ,  0.29980834, -0.14626825,\n",
       "         0.01819791,  0.01819791],\n",
       "       [-0.12863223, -0.24275644, -0.01593035, -0.04666133,  0.23594132,\n",
       "        -0.027139  , -0.52863542, -0.69325173, -0.0270877 , -0.1738857 ,\n",
       "         0.11580959, -0.01311143,  0.01034517, -0.1568909 ,  0.18777074,\n",
       "         0.02345661,  0.02345661],\n",
       "       [-0.0817089 , -0.07706724, -0.29523059,  0.05723833, -0.27432227,\n",
       "        -0.27886876,  0.22831094, -0.18945427,  0.06405354,  0.02132985,\n",
       "         0.15685794,  0.07960652, -0.25536253,  0.02412897,  0.01206572,\n",
       "         0.66503095, -0.33496905],\n",
       "       [-0.0817089 , -0.07706724, -0.29523059,  0.05723833, -0.27432227,\n",
       "        -0.27886876,  0.22831094, -0.18945427,  0.06405354,  0.02132985,\n",
       "         0.15685794,  0.07960652, -0.25536253,  0.02412897,  0.01206572,\n",
       "        -0.33496905,  0.66503095]])"
      ]
     },
     "execution_count": 5,
     "metadata": {},
     "output_type": "execute_result"
    }
   ],
   "source": [
    "U"
   ]
  },
  {
   "cell_type": "code",
   "execution_count": 6,
   "metadata": {},
   "outputs": [
    {
     "data": {
      "text/plain": [
       "array([[1.63573344, 0.        , 0.        , 0.        , 0.        ,\n",
       "        0.        , 0.        , 0.        ],\n",
       "       [0.        , 1.25616758, 0.        , 0.        , 0.        ,\n",
       "        0.        , 0.        , 0.        ],\n",
       "       [0.        , 0.        , 1.06374115, 0.        , 0.        ,\n",
       "        0.        , 0.        , 0.        ],\n",
       "       [0.        , 0.        , 0.        , 0.92521088, 0.        ,\n",
       "        0.        , 0.        , 0.        ],\n",
       "       [0.        , 0.        , 0.        , 0.        , 0.87391752,\n",
       "        0.        , 0.        , 0.        ],\n",
       "       [0.        , 0.        , 0.        , 0.        , 0.        ,\n",
       "        0.74861232, 0.        , 0.        ],\n",
       "       [0.        , 0.        , 0.        , 0.        , 0.        ,\n",
       "        0.        , 0.53664546, 0.        ],\n",
       "       [0.        , 0.        , 0.        , 0.        , 0.        ,\n",
       "        0.        , 0.        , 0.38303801],\n",
       "       [0.        , 0.        , 0.        , 0.        , 0.        ,\n",
       "        0.        , 0.        , 0.        ],\n",
       "       [0.        , 0.        , 0.        , 0.        , 0.        ,\n",
       "        0.        , 0.        , 0.        ],\n",
       "       [0.        , 0.        , 0.        , 0.        , 0.        ,\n",
       "        0.        , 0.        , 0.        ],\n",
       "       [0.        , 0.        , 0.        , 0.        , 0.        ,\n",
       "        0.        , 0.        , 0.        ],\n",
       "       [0.        , 0.        , 0.        , 0.        , 0.        ,\n",
       "        0.        , 0.        , 0.        ],\n",
       "       [0.        , 0.        , 0.        , 0.        , 0.        ,\n",
       "        0.        , 0.        , 0.        ],\n",
       "       [0.        , 0.        , 0.        , 0.        , 0.        ,\n",
       "        0.        , 0.        , 0.        ],\n",
       "       [0.        , 0.        , 0.        , 0.        , 0.        ,\n",
       "        0.        , 0.        , 0.        ],\n",
       "       [0.        , 0.        , 0.        , 0.        , 0.        ,\n",
       "        0.        , 0.        , 0.        ]])"
      ]
     },
     "execution_count": 6,
     "metadata": {},
     "output_type": "execute_result"
    }
   ],
   "source": [
    "S = np.zeros((17, 8))\n",
    "S[:8,:8] = np.diag(s)\n",
    "S"
   ]
  },
  {
   "cell_type": "code",
   "execution_count": 7,
   "metadata": {},
   "outputs": [
    {
     "data": {
      "text/plain": [
       "array([[-0.43730648,  0.25767545, -0.08919598,  0.43257977,  0.37292731,\n",
       "        -0.32072202, -0.20093979,  0.51475337],\n",
       "       [-0.25633618,  0.34323775,  0.211737  , -0.7307958 , -0.11736408,\n",
       "        -0.45106878, -0.14231562,  0.00966651],\n",
       "       [-0.40827629, -0.0683853 ,  0.27164353,  0.12644879, -0.65111911,\n",
       "         0.38721113, -0.35116127,  0.20408731],\n",
       "       [-0.40998873,  0.45256386,  0.24208388,  0.27399955,  0.05316151,\n",
       "         0.10989732,  0.35046607, -0.59639316],\n",
       "       [-0.19106572,  0.32402696, -0.62314095, -0.3244703 ,  0.1638192 ,\n",
       "         0.57341844, -0.08474947,  0.04568261],\n",
       "       [-0.3644374 , -0.52817638, -0.02935093, -0.07477535,  0.3571372 ,\n",
       "        -0.03518937, -0.49136515, -0.45993183],\n",
       "       [-0.40926794, -0.42994027,  0.17647573, -0.25623594,  0.18998261,\n",
       "         0.16518732,  0.62012901,  0.32079642],\n",
       "       [-0.26730796, -0.19361873, -0.62809785,  0.10591505, -0.47947008,\n",
       "        -0.41752919,  0.24504406, -0.14513637]])"
      ]
     },
     "execution_count": 7,
     "metadata": {},
     "output_type": "execute_result"
    }
   ],
   "source": [
    "V = Vh.T\n",
    "V"
   ]
  },
  {
   "cell_type": "code",
   "execution_count": 8,
   "metadata": {},
   "outputs": [
    {
     "data": {
      "text/plain": [
       "array([[-0.57095876, -0.38420785],\n",
       "       [-0.24576484,  0.26368332],\n",
       "       [-0.30416853,  0.39265773],\n",
       "       [-0.30974153,  0.3752339 ],\n",
       "       [-0.06397669,  0.11155058],\n",
       "       [-0.06397669,  0.11155058],\n",
       "       [-0.40301335,  0.10572149],\n",
       "       [-0.06397669,  0.11155058],\n",
       "       [-0.12238037,  0.240525  ],\n",
       "       [-0.23689109,  0.13389938],\n",
       "       [-0.12479915, -0.02721982],\n",
       "       [-0.05840368,  0.12897441],\n",
       "       [-0.14011258,  0.05190718],\n",
       "       [-0.33292338, -0.52221339],\n",
       "       [-0.12863223, -0.24275644],\n",
       "       [-0.0817089 , -0.07706724],\n",
       "       [-0.0817089 , -0.07706724]])"
      ]
     },
     "execution_count": 8,
     "metadata": {},
     "output_type": "execute_result"
    }
   ],
   "source": [
    "# Question c)\n",
    "U2 = U[:,:2]\n",
    "U2"
   ]
  },
  {
   "cell_type": "code",
   "execution_count": 9,
   "metadata": {},
   "outputs": [
    {
     "data": {
      "text/plain": [
       "array([[1.63573344, 0.        , 0.        , 0.        , 0.        ,\n",
       "        0.        , 0.        , 0.        ],\n",
       "       [0.        , 1.25616758, 0.        , 0.        , 0.        ,\n",
       "        0.        , 0.        , 0.        ],\n",
       "       [0.        , 0.        , 0.        , 0.        , 0.        ,\n",
       "        0.        , 0.        , 0.        ],\n",
       "       [0.        , 0.        , 0.        , 0.        , 0.        ,\n",
       "        0.        , 0.        , 0.        ],\n",
       "       [0.        , 0.        , 0.        , 0.        , 0.        ,\n",
       "        0.        , 0.        , 0.        ],\n",
       "       [0.        , 0.        , 0.        , 0.        , 0.        ,\n",
       "        0.        , 0.        , 0.        ],\n",
       "       [0.        , 0.        , 0.        , 0.        , 0.        ,\n",
       "        0.        , 0.        , 0.        ],\n",
       "       [0.        , 0.        , 0.        , 0.        , 0.        ,\n",
       "        0.        , 0.        , 0.        ],\n",
       "       [0.        , 0.        , 0.        , 0.        , 0.        ,\n",
       "        0.        , 0.        , 0.        ],\n",
       "       [0.        , 0.        , 0.        , 0.        , 0.        ,\n",
       "        0.        , 0.        , 0.        ],\n",
       "       [0.        , 0.        , 0.        , 0.        , 0.        ,\n",
       "        0.        , 0.        , 0.        ],\n",
       "       [0.        , 0.        , 0.        , 0.        , 0.        ,\n",
       "        0.        , 0.        , 0.        ],\n",
       "       [0.        , 0.        , 0.        , 0.        , 0.        ,\n",
       "        0.        , 0.        , 0.        ],\n",
       "       [0.        , 0.        , 0.        , 0.        , 0.        ,\n",
       "        0.        , 0.        , 0.        ],\n",
       "       [0.        , 0.        , 0.        , 0.        , 0.        ,\n",
       "        0.        , 0.        , 0.        ],\n",
       "       [0.        , 0.        , 0.        , 0.        , 0.        ,\n",
       "        0.        , 0.        , 0.        ],\n",
       "       [0.        , 0.        , 0.        , 0.        , 0.        ,\n",
       "        0.        , 0.        , 0.        ]])"
      ]
     },
     "execution_count": 9,
     "metadata": {},
     "output_type": "execute_result"
    }
   ],
   "source": [
    "S2 = np.zeros((17, 8))\n",
    "S2[:2,:2] = np.diag(s[:2])\n",
    "S2"
   ]
  },
  {
   "cell_type": "code",
   "execution_count": 10,
   "metadata": {},
   "outputs": [
    {
     "data": {
      "text/plain": [
       "array([[-0.43730648,  0.25767545, -0.08919598,  0.43257977,  0.37292731,\n",
       "        -0.32072202, -0.20093979,  0.51475337],\n",
       "       [-0.25633618,  0.34323775,  0.211737  , -0.7307958 , -0.11736408,\n",
       "        -0.45106878, -0.14231562,  0.00966651]])"
      ]
     },
     "execution_count": 10,
     "metadata": {},
     "output_type": "execute_result"
    }
   ],
   "source": [
    "V2 = V[:2,:]\n",
    "V2"
   ]
  },
  {
   "cell_type": "code",
   "execution_count": 11,
   "metadata": {},
   "outputs": [
    {
     "data": {
      "text/plain": [
       "array([[-0.43730648, -0.25633618],\n",
       "       [ 0.25767545,  0.34323775],\n",
       "       [-0.08919598,  0.211737  ],\n",
       "       [ 0.43257977, -0.7307958 ],\n",
       "       [ 0.37292731, -0.11736408],\n",
       "       [-0.32072202, -0.45106878],\n",
       "       [-0.20093979, -0.14231562],\n",
       "       [ 0.51475337,  0.00966651]])"
      ]
     },
     "execution_count": 11,
     "metadata": {},
     "output_type": "execute_result"
    }
   ],
   "source": [
    "Vh2 = V2.T\n",
    "Vh2"
   ]
  },
  {
   "cell_type": "code",
   "execution_count": 12,
   "metadata": {},
   "outputs": [
    {
     "data": {
      "text/plain": [
       "array([[ 0.28405465,  0.07374503,  0.41430882,  0.16448272,  0.02205826,\n",
       "         0.59527481,  0.58973203,  0.34309472],\n",
       "       [ 0.26114968,  0.21673941,  0.14147813,  0.31472076,  0.18413711,\n",
       "        -0.02844215,  0.02211877,  0.04332693],\n",
       "       [ 0.34467372,  0.29683708,  0.16940259,  0.4272096 ,  0.2548869 ,\n",
       "        -0.0791981 , -0.00843881,  0.03749478],\n",
       "       [ 0.34302037,  0.2916613 ,  0.17462118,  0.42104166,  0.24953659,\n",
       "        -0.06431558,  0.00470226,  0.04416932],\n",
       "       [ 0.08187069,  0.07492189,  0.03314305,  0.1063209 ,  0.06539947,\n",
       "        -0.03587342, -0.01741651,  0.0008424 ],\n",
       "       [ 0.08187069,  0.07492189,  0.03314305,  0.1063209 ,  0.06539947,\n",
       "        -0.03587342, -0.01741651,  0.0008424 ],\n",
       "       [ 0.32250254,  0.21456587,  0.26006305,  0.33037601,  0.16898685,\n",
       "         0.17010142,  0.21270085,  0.15050208],\n",
       "       [ 0.08187069,  0.07492189,  0.03314305,  0.1063209 ,  0.06539947,\n",
       "        -0.03587342, -0.01741651,  0.0008424 ],\n",
       "       [ 0.16539472,  0.15501956,  0.06106751,  0.21880974,  0.13614926,\n",
       "        -0.08662937, -0.04797409, -0.00498975],\n",
       "       [ 0.21279321,  0.15706049,  0.14670084,  0.23498808,  0.12853754,\n",
       "         0.0523768 ,  0.08627153,  0.07101266],\n",
       "       [ 0.08046033,  0.04059178,  0.08568304,  0.06821998,  0.02792446,\n",
       "         0.09245533,  0.098248  ,  0.06118809],\n",
       "       [ 0.08352403,  0.08009767,  0.02792446,  0.11248884,  0.07074979,\n",
       "        -0.05075595, -0.03055758, -0.00583215],\n",
       "       [ 0.11702639,  0.08112939,  0.08911255,  0.12347305,  0.06491764,\n",
       "         0.04908498,  0.06576495,  0.04863873],\n",
       "       [ 0.06911381, -0.08556569,  0.26719652, -0.07360709, -0.10850824,\n",
       "         0.54494022,  0.5049121 ,  0.27258042],\n",
       "       [ 0.01343653, -0.05073268,  0.10675821, -0.05174116, -0.05860792,\n",
       "         0.23774413,  0.21722044,  0.11528638],\n",
       "       [ 0.03350235,  0.00103172,  0.06118809,  0.01098421, -0.00583215,\n",
       "         0.09984093,  0.09632253,  0.05447088],\n",
       "       [ 0.03350235,  0.00103172,  0.06118809,  0.01098421, -0.00583215,\n",
       "         0.09984093,  0.09632253,  0.05447088]])"
      ]
     },
     "execution_count": 12,
     "metadata": {},
     "output_type": "execute_result"
    }
   ],
   "source": [
    "A2 = np.dot(np.dot(U, S2), Vh)\n",
    "A2"
   ]
  },
  {
   "cell_type": "code",
   "execution_count": 13,
   "metadata": {},
   "outputs": [
    {
     "data": {
      "image/png": "[encoded data removed]",
      "text/plain": [
       "<Figure size 432x288 with 1 Axes>"
      ]
     },
     "metadata": {
      "needs_background": "light"
     },
     "output_type": "display_data"
    }
   ],
   "source": [
    "# plot document in 2D\n",
    "plt.scatter(Vh2[:,0], Vh2[:,1])\n",
    "for i, xy in enumerate(zip(Vh2[:,0], Vh2[:,1])):\n",
    "    plt.annotate(\"d%s\" % str(i+1), xy=xy, xytext=(5, -5), textcoords='offset points')"
   ]
  },
  {
   "cell_type": "code",
   "execution_count": 14,
   "metadata": {},
   "outputs": [],
   "source": [
    "# Question d)\n",
    "q1 = np.array([1,0,0,1,0,0,0,0,0,0,0,0,0,0,0,0,0])\n",
    "q1 = q1 / np.linalg.norm(q1)\n",
    "q2 = np.array([1,0,0,0,0,0,0,0,0,0,0,0,1,0,0,0,0])\n",
    "q2 = q2 / np.linalg.norm(q2)"
   ]
  },
  {
   "cell_type": "code",
   "execution_count": 15,
   "metadata": {},
   "outputs": [
    {
     "data": {
      "text/plain": [
       "array([[0.61134655, 0.        ],\n",
       "       [0.        , 0.79607213]])"
      ]
     },
     "execution_count": 15,
     "metadata": {},
     "output_type": "execute_result"
    }
   ],
   "source": [
    "S2_inv = inv(S2[:2,:2])\n",
    "S2_inv"
   ]
  },
  {
   "cell_type": "code",
   "execution_count": 16,
   "metadata": {},
   "outputs": [
    {
     "data": {
      "text/plain": [
       "array([-0.38071554, -0.00505151])"
      ]
     },
     "execution_count": 16,
     "metadata": {},
     "output_type": "execute_result"
    }
   ],
   "source": [
    "q1_2D = np.dot(np.dot(q1, U2), S2_inv)\n",
    "q1_2D"
   ]
  },
  {
   "cell_type": "code",
   "execution_count": 17,
   "metadata": {},
   "outputs": [
    {
     "data": {
      "text/plain": [
       "array([-0.30738711, -0.18705471])"
      ]
     },
     "execution_count": 17,
     "metadata": {},
     "output_type": "execute_result"
    }
   ],
   "source": [
    "q2_2D = np.dot(np.dot(q2, U2), S2_inv)\n",
    "q2_2D"
   ]
  },
  {
   "cell_type": "code",
   "execution_count": 18,
   "metadata": {},
   "outputs": [
    {
     "data": {
      "image/png": "[encoded data removed]",
      "text/plain": [
       "<Figure size 432x288 with 1 Axes>"
      ]
     },
     "metadata": {
      "needs_background": "light"
     },
     "output_type": "display_data"
    }
   ],
   "source": [
    "# query q1 & q2 in 2D\n",
    "plt.scatter(Vh2[:,0], Vh2[:,1])\n",
    "for i, xy in enumerate(zip(Vh2[:,0], Vh2[:,1])):\n",
    "    plt.annotate(\"d%s\" % str(i+1), xy=xy, xytext=(5, -5), textcoords='offset points')\n",
    "plt.scatter(q1_2D[0], q1_2D[1], c='black')\n",
    "plt.annotate(\"q1\", xy=(q1_2D[0], q1_2D[1]), xytext=(5, -5), textcoords='offset points')\n",
    "plt.scatter(q2_2D[0], q2_2D[1], c='red')\n",
    "plt.annotate(\"q2\", xy=(q2_2D[0], q2_2D[1]), xytext=(5, -5), textcoords='offset points')\n",
    "plt.show()"
   ]
  },
  {
   "cell_type": "code",
   "execution_count": 19,
   "metadata": {},
   "outputs": [
    {
     "name": "stdout",
     "output_type": "stream",
     "text": [
      "top 3 documents for q1 in the reduced vector space:  [1 7 3]\n"
     ]
    }
   ],
   "source": [
    "# Question e)\n",
    "q1_A2_inner = np.inner(A2.T, q1)\n",
    "q1_A2_top3 = np.argsort(-q1_A2_inner) + 1\n",
    "print(\"top 3 documents for q1 in the reduced vector space: \", q1_A2_top3[0:3])"
   ]
  },
  {
   "cell_type": "code",
   "execution_count": 20,
   "metadata": {},
   "outputs": [
    {
     "name": "stdout",
     "output_type": "stream",
     "text": [
      "top 3 documents for q1 in the original vector space:  [1 6 3]\n"
     ]
    }
   ],
   "source": [
    "q1_Anorm_inner = np.inner(A_norm.T, q1)\n",
    "q1_Anorm_top3 = np.argsort(-q1_Anorm_inner) + 1\n",
    "print(\"top 3 documents for q1 in the original vector space: \", q1_Anorm_top3[0:3])"
   ]
  },
  {
   "cell_type": "code",
   "execution_count": 21,
   "metadata": {},
   "outputs": [
    {
     "name": "stdout",
     "output_type": "stream",
     "text": [
      "top 3 documents for q2 in the reduced vector space:  [7 6 3]\n"
     ]
    }
   ],
   "source": [
    "q2_A2_inner = np.inner(A2.T, q2)\n",
    "q2_A2_top3 = np.argsort(-q2_A2_inner) + 1\n",
    "print(\"top 3 documents for q2 in the reduced vector space: \", q2_A2_top3[0:3])"
   ]
  },
  {
   "cell_type": "code",
   "execution_count": 22,
   "metadata": {},
   "outputs": [
    {
     "name": "stdout",
     "output_type": "stream",
     "text": [
      "top 3 documents for q2 in the original vector space:  [8 6 1]\n"
     ]
    }
   ],
   "source": [
    "# Question e)\n",
    "q2_Anorm_inner = np.inner(A_norm.T, q2)\n",
    "q2_Anorm_top3 = np.argsort(-q2_Anorm_inner) + 1\n",
    "print(\"top 3 documents for q2 in the original vector space: \", q2_Anorm_top3[0:3])"
   ]
  }
 ],
 "metadata": {
  "kernelspec": {
   "display_name": "Python 3",
   "language": "python",
   "name": "python3"
  },
  "language_info": {
   "codemirror_mode": {
    "name": "ipython",
    "version": 3
   },
   "file_extension": ".py",
   "mimetype": "text/x-python",
   "name": "python",
   "nbconvert_exporter": "python",
   "pygments_lexer": "ipython3",
   "version": "3.7.4"
  }
 },
 "nbformat": 4,
 "nbformat_minor": 2
}
