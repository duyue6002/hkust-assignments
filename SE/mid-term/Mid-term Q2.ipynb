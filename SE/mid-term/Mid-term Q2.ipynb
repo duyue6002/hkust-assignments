{
 "cells": [
  {
   "cell_type": "code",
   "execution_count": 1,
   "metadata": {},
   "outputs": [],
   "source": [
    "import numpy as np\n",
    "from sklearn.preprocessing import normalize"
   ]
  },
  {
   "cell_type": "code",
   "execution_count": 2,
   "metadata": {},
   "outputs": [],
   "source": [
    "def cal_Q(A):\n",
    "    A_norm = normalize(A, axis=0)\n",
    "    A_T = A_norm.T\n",
    "    N = 8\n",
    "    outer_sum = 0\n",
    "    for i in range(8):\n",
    "        inner_sum = 0\n",
    "        for k in range(8):\n",
    "            if (i != k):\n",
    "                inner_sum += np.inner(A_T[i], A_T[k])\n",
    "        outer_sum += inner_sum\n",
    "    Q = 1/(N*(N-1))*outer_sum\n",
    "    return Q"
   ]
  },
  {
   "cell_type": "code",
   "execution_count": 3,
   "metadata": {},
   "outputs": [],
   "source": [
    "A = [[]]*17\n",
    "Q = [0]*17\n",
    "dv = [0]*17"
   ]
  },
  {
   "cell_type": "code",
   "execution_count": 4,
   "metadata": {},
   "outputs": [
    {
     "data": {
      "text/plain": [
       "0.2252868290095076"
      ]
     },
     "execution_count": 4,
     "metadata": {},
     "output_type": "execute_result"
    }
   ],
   "source": [
    "# Q_origin is the average similarity value between document pairs in 8 documents with all 17 terms in Q1\n",
    "A_origin = np.array([[1,0,1,0,0,1,1,1], [1,0,0,1,0,0,0,0],[1,0,0,1,1,0,0,0],[1,1,0,1,0,0,0,0],\n",
    "              [0,1,0,0,0,0,0,0],[0,1,0,0,0,0,0,0],[0,1,1,1,0,0,1,0],[0,1,0,0,0,0,0,0],\n",
    "              [0,1,0,0,1,0,0,0],[0,0,1,1,0,0,0,0],[0,0,1,0,0,0,0,0],[0,0,0,0,1,0,0,0],\n",
    "              [0,0,0,0,1,0,0,1],[0,0,0,0,0,1,2,0],[0,0,0,0,0,1,0,0],[0,0,0,0,0,0,0,1],[0,0,0,0,0,0,0,1]])\n",
    "Q_origin = cal_Q(A_origin)\n",
    "Q_origin"
   ]
  },
  {
   "cell_type": "code",
   "execution_count": 5,
   "metadata": {},
   "outputs": [
    {
     "data": {
      "text/plain": [
       "[-0.06793478754577989,\n",
       " 0.009792828347518184,\n",
       " -0.006936524682353784,\n",
       " -0.003259704827657417,\n",
       " 0.003900253751872196,\n",
       " 0.003900253751872196,\n",
       " -0.02251759493643843,\n",
       " 0.003900253751872196,\n",
       " -8.776183966965889e-05,\n",
       " 0.008158108560873845,\n",
       " 0.010211678479045166,\n",
       " 0.005125731298228325,\n",
       " 0.0003011401731182195,\n",
       " 0.030032393441576183,\n",
       " 0.012626906806902621,\n",
       " 0.006866489917376539,\n",
       " 0.006866489917376539]"
      ]
     },
     "execution_count": 5,
     "metadata": {},
     "output_type": "execute_result"
    }
   ],
   "source": [
    "# Q[j](j = 0,...,16) are the average similarity values after \n",
    "# removing term j to the documents of a collection\n",
    "# term discrimination values as dv[j] = Q[j] - Q_origin\n",
    "for i in range(17):\n",
    "    A[i] = np.delete(A_origin, i, 0)\n",
    "    Q[i] = cal_Q(A[i])\n",
    "    dv[i] = Q[i] - Q_origin\n",
    "dv"
   ]
  },
  {
   "cell_type": "code",
   "execution_count": 10,
   "metadata": {},
   "outputs": [
    {
     "data": {
      "text/plain": [
       "array([14])"
      ]
     },
     "execution_count": 10,
     "metadata": {},
     "output_type": "execute_result"
    }
   ],
   "source": [
    "indexes = np.argsort(-np.array(dv)) + 1\n",
    "select_term = indexes[:1]\n",
    "select_term"
   ]
  }
 ],
 "metadata": {
  "kernelspec": {
   "display_name": "Python 3",
   "language": "python",
   "name": "python3"
  },
  "language_info": {
   "codemirror_mode": {
    "name": "ipython",
    "version": 3
   },
   "file_extension": ".py",
   "mimetype": "text/x-python",
   "name": "python",
   "nbconvert_exporter": "python",
   "pygments_lexer": "ipython3",
   "version": "3.7.4"
  }
 },
 "nbformat": 4,
 "nbformat_minor": 2
}
