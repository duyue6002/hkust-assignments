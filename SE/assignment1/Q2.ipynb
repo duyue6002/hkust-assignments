{
 "cells": [
  {
   "cell_type": "code",
   "execution_count": 1,
   "metadata": {},
   "outputs": [],
   "source": [
    "import string\n",
    "import re"
   ]
  },
  {
   "cell_type": "code",
   "execution_count": 8,
   "metadata": {},
   "outputs": [],
   "source": [
    "def preprocess():\n",
    "    data = ''\n",
    "    with open('002.txt', 'r+') as f:\n",
    "        for line in f.readlines():\n",
    "            line = re.sub('\\\\n$|,|\\/|-', '', line).split(' ')\n",
    "            str_lines = list(map(lambda x: x.strip(string.punctuation), line))\n",
    "            str_copy = [str for str in str_lines if not (len(str) < 4 or re.match(r'\\w*s$', str))]\n",
    "            if len(str_copy) == 0:\n",
    "                str_copy = ['\\n\\n']\n",
    "            data += ''.join(str_copy)\n",
    "    with open('002.txt', 'w') as f:\n",
    "        f.writelines(data)"
   ]
  },
  {
   "cell_type": "code",
   "execution_count": null,
   "metadata": {},
   "outputs": [],
   "source": []
  }
 ],
 "metadata": {
  "kernelspec": {
   "display_name": "Python 3",
   "language": "python",
   "name": "python3"
  },
  "language_info": {
   "codemirror_mode": {
    "name": "ipython",
    "version": 3
   },
   "file_extension": ".py",
   "mimetype": "text/x-python",
   "name": "python",
   "nbconvert_exporter": "python",
   "pygments_lexer": "ipython3",
   "version": "3.7.4"
  }
 },
 "nbformat": 4,
 "nbformat_minor": 2
}
