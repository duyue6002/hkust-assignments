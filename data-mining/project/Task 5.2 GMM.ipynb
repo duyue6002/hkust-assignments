{
 "cells": [
  {
   "cell_type": "code",
   "execution_count": 1,
   "metadata": {},
   "outputs": [],
   "source": [
    "import pandas as pd\n",
    "import numpy as np\n",
    "import math\n",
    "import matplotlib.pyplot as plt\n",
    "from scipy.stats import multivariate_normal\n",
    "from sklearn                        import metrics, svm\n",
    "from sklearn.linear_model           import LinearRegression\n",
    "from sklearn.linear_model           import LogisticRegression\n",
    "from sklearn.tree                   import DecisionTreeClassifier, DecisionTreeRegressor\n",
    "from sklearn.neighbors              import KNeighborsClassifier, KNeighborsRegressor\n",
    "from sklearn.discriminant_analysis  import LinearDiscriminantAnalysis\n",
    "from sklearn.neural_network         import MLPRegressor\n",
    "from sklearn.svm                    import SVC\n",
    "from sklearn.metrics                import mean_squared_error\n",
    "from sklearn.metrics                import r2_score\n",
    "from sklearn.model_selection        import train_test_split\n",
    "from sklearn.cluster                import KMeans\n",
    "from sklearn.ensemble               import IsolationForest, RandomForestRegressor"
   ]
  },
  {
   "cell_type": "code",
   "execution_count": 2,
   "metadata": {},
   "outputs": [],
   "source": [
    "df_5_2_test = pd.read_csv('5_2_testing.csv', sep=',', parse_dates=['trip_start_timestamp'])"
   ]
  },
  {
   "cell_type": "code",
   "execution_count": 3,
   "metadata": {},
   "outputs": [
    {
     "data": {
      "text/plain": [
       "array(['Credit Card', 'Cash'], dtype=object)"
      ]
     },
     "execution_count": 3,
     "metadata": {},
     "output_type": "execute_result"
    }
   ],
   "source": [
    "df_5_2_test['order1_payment_type'].unique()"
   ]
  },
  {
   "cell_type": "code",
   "execution_count": 4,
   "metadata": {},
   "outputs": [
    {
     "data": {
      "text/plain": [
       "array(['Cash', 'Credit Card'], dtype=object)"
      ]
     },
     "execution_count": 4,
     "metadata": {},
     "output_type": "execute_result"
    }
   ],
   "source": [
    "df_5_2_test['order2_payment_type'].unique()"
   ]
  },
  {
   "cell_type": "code",
   "execution_count": 5,
   "metadata": {},
   "outputs": [
    {
     "data": {
      "text/plain": [
       "array(['Credit Card', 'Cash'], dtype=object)"
      ]
     },
     "execution_count": 5,
     "metadata": {},
     "output_type": "execute_result"
    }
   ],
   "source": [
    "df_5_2_test['order3_payment_type'].unique()"
   ]
  },
  {
   "cell_type": "code",
   "execution_count": 6,
   "metadata": {},
   "outputs": [
    {
     "data": {
      "text/plain": [
       "array(['2016-02-04T19:00:00.000000000', '2016-02-05T21:00:00.000000000',\n",
       "       '2016-02-06T14:00:00.000000000', '2016-02-07T09:00:00.000000000',\n",
       "       '2016-02-08T15:00:00.000000000'], dtype='datetime64[ns]')"
      ]
     },
     "execution_count": 6,
     "metadata": {},
     "output_type": "execute_result"
    }
   ],
   "source": [
    "order_start_time = df_5_2_test['trip_start_timestamp'].unique()\n",
    "order_start_time"
   ]
  },
  {
   "cell_type": "code",
   "execution_count": 7,
   "metadata": {},
   "outputs": [],
   "source": [
    "df = pd.read_csv('training.csv', sep=',', parse_dates=['trip_start_timestamp'])"
   ]
  },
  {
   "cell_type": "code",
   "execution_count": 8,
   "metadata": {},
   "outputs": [],
   "source": [
    "df = df.drop(df[(np.isnan(df['pickup_latitude']) |\n",
    "                 np.isnan(df['pickup_longitude']) | \n",
    "                 np.isnan(df['dropoff_latitude']) |\n",
    "                 np.isnan(df['dropoff_longitude']) | \n",
    "                 np.isnan(df['fare']) | \n",
    "                 np.isnan(df['tips']))].index).reset_index(drop=True)"
   ]
  },
  {
   "cell_type": "code",
   "execution_count": 9,
   "metadata": {},
   "outputs": [],
   "source": [
    "df = df.drop(df[(df['fare'] > 64) | (df['fare'] < 3.25)].index).reset_index(drop=True)"
   ]
  },
  {
   "cell_type": "code",
   "execution_count": 10,
   "metadata": {},
   "outputs": [],
   "source": [
    "df = df.drop(df[(df['trip_seconds'] == 0) | (df['trip_miles'] == 0)].index).reset_index(drop=True)"
   ]
  },
  {
   "cell_type": "code",
   "execution_count": 11,
   "metadata": {},
   "outputs": [
    {
     "name": "stdout",
     "output_type": "stream",
     "text": [
      "1089394\n",
      "1089272\n"
     ]
    }
   ],
   "source": [
    "print(len(df))\n",
    "idx = (df.trip_miles >= 0.05)\n",
    "df = df[idx]\n",
    "idx = (df.fare<= 1000.0)\n",
    "df = df[idx]\n",
    "df=df[df['fare']<400]\n",
    "print(len(df))"
   ]
  },
  {
   "cell_type": "code",
   "execution_count": 12,
   "metadata": {},
   "outputs": [],
   "source": [
    "df = df.drop(df[(df['pickup_latitude'] == df['dropoff_latitude']) & (df['pickup_longitude'] == df['dropoff_longitude'])].index).reset_index(drop=True)"
   ]
  },
  {
   "cell_type": "code",
   "execution_count": 13,
   "metadata": {},
   "outputs": [
    {
     "data": {
      "text/plain": [
       "(990673, 15)"
      ]
     },
     "execution_count": 13,
     "metadata": {},
     "output_type": "execute_result"
    }
   ],
   "source": [
    "df.shape"
   ]
  },
  {
   "cell_type": "code",
   "execution_count": 14,
   "metadata": {},
   "outputs": [],
   "source": [
    "df = df.drop(df[(df['payment_type'] != 'Credit Card') & (df['payment_type'] != 'Cash')].index).reset_index(drop=True)"
   ]
  },
  {
   "cell_type": "code",
   "execution_count": 15,
   "metadata": {
    "scrolled": true
   },
   "outputs": [
    {
     "data": {
      "text/plain": [
       "(984898, 15)"
      ]
     },
     "execution_count": 15,
     "metadata": {},
     "output_type": "execute_result"
    }
   ],
   "source": [
    "df.shape"
   ]
  },
  {
   "cell_type": "code",
   "execution_count": 16,
   "metadata": {},
   "outputs": [],
   "source": [
    "df_time = [None]*5\n",
    "for i in range(len(order_start_time)):\n",
    "    df_time[i] = df[df['trip_start_timestamp'].map(lambda x: (x.time() == pd.Timestamp(order_start_time[i]).time())\n",
    "                                                  & (x.dayofweek == pd.Timestamp(order_start_time[i]).dayofweek))]\n",
    "    "
   ]
  },
  {
   "cell_type": "code",
   "execution_count": 17,
   "metadata": {
    "scrolled": false
   },
   "outputs": [
    {
     "data": {
      "text/html": [
       "<div>\n",
       "<style scoped>\n",
       "    .dataframe tbody tr th:only-of-type {\n",
       "        vertical-align: middle;\n",
       "    }\n",
       "\n",
       "    .dataframe tbody tr th {\n",
       "        vertical-align: top;\n",
       "    }\n",
       "\n",
       "    .dataframe thead th {\n",
       "        text-align: right;\n",
       "    }\n",
       "</style>\n",
       "<table border=\"1\" class=\"dataframe\">\n",
       "  <thead>\n",
       "    <tr style=\"text-align: right;\">\n",
       "      <th></th>\n",
       "      <th>taxi_id</th>\n",
       "      <th>trip_start_timestamp</th>\n",
       "      <th>trip_end_timestamp</th>\n",
       "      <th>trip_seconds</th>\n",
       "      <th>trip_miles</th>\n",
       "      <th>fare</th>\n",
       "      <th>tips</th>\n",
       "      <th>tolls</th>\n",
       "      <th>extras</th>\n",
       "      <th>trip_total</th>\n",
       "      <th>payment_type</th>\n",
       "      <th>pickup_latitude</th>\n",
       "      <th>pickup_longitude</th>\n",
       "      <th>dropoff_latitude</th>\n",
       "      <th>dropoff_longitude</th>\n",
       "    </tr>\n",
       "  </thead>\n",
       "  <tbody>\n",
       "    <tr>\n",
       "      <td>100931</td>\n",
       "      <td>6331</td>\n",
       "      <td>2016-01-04 15:00:00</td>\n",
       "      <td>2016-01-04 15:00:00</td>\n",
       "      <td>180.0</td>\n",
       "      <td>0.9</td>\n",
       "      <td>5.50</td>\n",
       "      <td>2.00</td>\n",
       "      <td>0.0</td>\n",
       "      <td>0.0</td>\n",
       "      <td>7.50</td>\n",
       "      <td>Credit Card</td>\n",
       "      <td>474.0</td>\n",
       "      <td>204.0</td>\n",
       "      <td>161.0</td>\n",
       "      <td>649.0</td>\n",
       "    </tr>\n",
       "    <tr>\n",
       "      <td>100932</td>\n",
       "      <td>2924</td>\n",
       "      <td>2016-01-04 15:00:00</td>\n",
       "      <td>2016-01-04 15:15:00</td>\n",
       "      <td>600.0</td>\n",
       "      <td>1.9</td>\n",
       "      <td>9.00</td>\n",
       "      <td>0.00</td>\n",
       "      <td>0.0</td>\n",
       "      <td>1.0</td>\n",
       "      <td>10.00</td>\n",
       "      <td>Cash</td>\n",
       "      <td>64.0</td>\n",
       "      <td>231.0</td>\n",
       "      <td>728.0</td>\n",
       "      <td>277.0</td>\n",
       "    </tr>\n",
       "    <tr>\n",
       "      <td>100933</td>\n",
       "      <td>3313</td>\n",
       "      <td>2016-01-04 15:00:00</td>\n",
       "      <td>2016-01-04 15:00:00</td>\n",
       "      <td>180.0</td>\n",
       "      <td>0.5</td>\n",
       "      <td>5.50</td>\n",
       "      <td>0.00</td>\n",
       "      <td>0.0</td>\n",
       "      <td>0.0</td>\n",
       "      <td>5.50</td>\n",
       "      <td>Cash</td>\n",
       "      <td>210.0</td>\n",
       "      <td>470.0</td>\n",
       "      <td>64.0</td>\n",
       "      <td>231.0</td>\n",
       "    </tr>\n",
       "    <tr>\n",
       "      <td>100934</td>\n",
       "      <td>7124</td>\n",
       "      <td>2016-01-04 15:00:00</td>\n",
       "      <td>2016-01-04 15:00:00</td>\n",
       "      <td>300.0</td>\n",
       "      <td>0.8</td>\n",
       "      <td>5.75</td>\n",
       "      <td>0.00</td>\n",
       "      <td>0.0</td>\n",
       "      <td>0.0</td>\n",
       "      <td>5.75</td>\n",
       "      <td>Cash</td>\n",
       "      <td>395.0</td>\n",
       "      <td>408.0</td>\n",
       "      <td>744.0</td>\n",
       "      <td>605.0</td>\n",
       "    </tr>\n",
       "    <tr>\n",
       "      <td>100935</td>\n",
       "      <td>2053</td>\n",
       "      <td>2016-01-04 15:00:00</td>\n",
       "      <td>2016-01-04 15:00:00</td>\n",
       "      <td>360.0</td>\n",
       "      <td>0.8</td>\n",
       "      <td>5.75</td>\n",
       "      <td>0.00</td>\n",
       "      <td>0.0</td>\n",
       "      <td>0.0</td>\n",
       "      <td>5.75</td>\n",
       "      <td>Cash</td>\n",
       "      <td>18.0</td>\n",
       "      <td>610.0</td>\n",
       "      <td>210.0</td>\n",
       "      <td>470.0</td>\n",
       "    </tr>\n",
       "    <tr>\n",
       "      <td>...</td>\n",
       "      <td>...</td>\n",
       "      <td>...</td>\n",
       "      <td>...</td>\n",
       "      <td>...</td>\n",
       "      <td>...</td>\n",
       "      <td>...</td>\n",
       "      <td>...</td>\n",
       "      <td>...</td>\n",
       "      <td>...</td>\n",
       "      <td>...</td>\n",
       "      <td>...</td>\n",
       "      <td>...</td>\n",
       "      <td>...</td>\n",
       "      <td>...</td>\n",
       "      <td>...</td>\n",
       "    </tr>\n",
       "    <tr>\n",
       "      <td>778517</td>\n",
       "      <td>4098</td>\n",
       "      <td>2016-01-25 15:00:00</td>\n",
       "      <td>2016-01-25 15:00:00</td>\n",
       "      <td>300.0</td>\n",
       "      <td>0.8</td>\n",
       "      <td>5.75</td>\n",
       "      <td>1.25</td>\n",
       "      <td>0.0</td>\n",
       "      <td>0.0</td>\n",
       "      <td>7.00</td>\n",
       "      <td>Credit Card</td>\n",
       "      <td>754.0</td>\n",
       "      <td>410.0</td>\n",
       "      <td>18.0</td>\n",
       "      <td>610.0</td>\n",
       "    </tr>\n",
       "    <tr>\n",
       "      <td>778518</td>\n",
       "      <td>7861</td>\n",
       "      <td>2016-01-25 15:00:00</td>\n",
       "      <td>2016-01-25 15:30:00</td>\n",
       "      <td>1800.0</td>\n",
       "      <td>17.2</td>\n",
       "      <td>43.00</td>\n",
       "      <td>6.00</td>\n",
       "      <td>0.0</td>\n",
       "      <td>0.0</td>\n",
       "      <td>49.00</td>\n",
       "      <td>Credit Card</td>\n",
       "      <td>18.0</td>\n",
       "      <td>610.0</td>\n",
       "      <td>225.0</td>\n",
       "      <td>6.0</td>\n",
       "    </tr>\n",
       "    <tr>\n",
       "      <td>778519</td>\n",
       "      <td>5565</td>\n",
       "      <td>2016-01-25 15:00:00</td>\n",
       "      <td>2016-01-25 15:15:00</td>\n",
       "      <td>1260.0</td>\n",
       "      <td>11.8</td>\n",
       "      <td>31.00</td>\n",
       "      <td>0.00</td>\n",
       "      <td>0.0</td>\n",
       "      <td>4.0</td>\n",
       "      <td>35.00</td>\n",
       "      <td>Cash</td>\n",
       "      <td>433.0</td>\n",
       "      <td>757.0</td>\n",
       "      <td>744.0</td>\n",
       "      <td>605.0</td>\n",
       "    </tr>\n",
       "    <tr>\n",
       "      <td>778520</td>\n",
       "      <td>8629</td>\n",
       "      <td>2016-01-25 15:00:00</td>\n",
       "      <td>2016-01-25 15:30:00</td>\n",
       "      <td>1740.0</td>\n",
       "      <td>17.5</td>\n",
       "      <td>43.25</td>\n",
       "      <td>10.00</td>\n",
       "      <td>0.0</td>\n",
       "      <td>5.0</td>\n",
       "      <td>58.25</td>\n",
       "      <td>Credit Card</td>\n",
       "      <td>225.0</td>\n",
       "      <td>6.0</td>\n",
       "      <td>18.0</td>\n",
       "      <td>610.0</td>\n",
       "    </tr>\n",
       "    <tr>\n",
       "      <td>778521</td>\n",
       "      <td>1305</td>\n",
       "      <td>2016-01-25 15:00:00</td>\n",
       "      <td>2016-01-25 15:00:00</td>\n",
       "      <td>300.0</td>\n",
       "      <td>1.0</td>\n",
       "      <td>6.00</td>\n",
       "      <td>2.00</td>\n",
       "      <td>0.0</td>\n",
       "      <td>0.0</td>\n",
       "      <td>8.00</td>\n",
       "      <td>Credit Card</td>\n",
       "      <td>64.0</td>\n",
       "      <td>231.0</td>\n",
       "      <td>210.0</td>\n",
       "      <td>470.0</td>\n",
       "    </tr>\n",
       "  </tbody>\n",
       "</table>\n",
       "<p>1417 rows × 15 columns</p>\n",
       "</div>"
      ],
      "text/plain": [
       "        taxi_id trip_start_timestamp   trip_end_timestamp  trip_seconds  \\\n",
       "100931     6331  2016-01-04 15:00:00  2016-01-04 15:00:00         180.0   \n",
       "100932     2924  2016-01-04 15:00:00  2016-01-04 15:15:00         600.0   \n",
       "100933     3313  2016-01-04 15:00:00  2016-01-04 15:00:00         180.0   \n",
       "100934     7124  2016-01-04 15:00:00  2016-01-04 15:00:00         300.0   \n",
       "100935     2053  2016-01-04 15:00:00  2016-01-04 15:00:00         360.0   \n",
       "...         ...                  ...                  ...           ...   \n",
       "778517     4098  2016-01-25 15:00:00  2016-01-25 15:00:00         300.0   \n",
       "778518     7861  2016-01-25 15:00:00  2016-01-25 15:30:00        1800.0   \n",
       "778519     5565  2016-01-25 15:00:00  2016-01-25 15:15:00        1260.0   \n",
       "778520     8629  2016-01-25 15:00:00  2016-01-25 15:30:00        1740.0   \n",
       "778521     1305  2016-01-25 15:00:00  2016-01-25 15:00:00         300.0   \n",
       "\n",
       "        trip_miles   fare   tips  tolls  extras  trip_total payment_type  \\\n",
       "100931         0.9   5.50   2.00    0.0     0.0        7.50  Credit Card   \n",
       "100932         1.9   9.00   0.00    0.0     1.0       10.00         Cash   \n",
       "100933         0.5   5.50   0.00    0.0     0.0        5.50         Cash   \n",
       "100934         0.8   5.75   0.00    0.0     0.0        5.75         Cash   \n",
       "100935         0.8   5.75   0.00    0.0     0.0        5.75         Cash   \n",
       "...            ...    ...    ...    ...     ...         ...          ...   \n",
       "778517         0.8   5.75   1.25    0.0     0.0        7.00  Credit Card   \n",
       "778518        17.2  43.00   6.00    0.0     0.0       49.00  Credit Card   \n",
       "778519        11.8  31.00   0.00    0.0     4.0       35.00         Cash   \n",
       "778520        17.5  43.25  10.00    0.0     5.0       58.25  Credit Card   \n",
       "778521         1.0   6.00   2.00    0.0     0.0        8.00  Credit Card   \n",
       "\n",
       "        pickup_latitude  pickup_longitude  dropoff_latitude  dropoff_longitude  \n",
       "100931            474.0             204.0             161.0              649.0  \n",
       "100932             64.0             231.0             728.0              277.0  \n",
       "100933            210.0             470.0              64.0              231.0  \n",
       "100934            395.0             408.0             744.0              605.0  \n",
       "100935             18.0             610.0             210.0              470.0  \n",
       "...                 ...               ...               ...                ...  \n",
       "778517            754.0             410.0              18.0              610.0  \n",
       "778518             18.0             610.0             225.0                6.0  \n",
       "778519            433.0             757.0             744.0              605.0  \n",
       "778520            225.0               6.0              18.0              610.0  \n",
       "778521             64.0             231.0             210.0              470.0  \n",
       "\n",
       "[1417 rows x 15 columns]"
      ]
     },
     "execution_count": 17,
     "metadata": {},
     "output_type": "execute_result"
    }
   ],
   "source": [
    "df = df_time[4]\n",
    "pd.Timestamp(order_start_time[4]).dayofweek\n",
    "\n",
    "df_time[4]"
   ]
  },
  {
   "cell_type": "code",
   "execution_count": 18,
   "metadata": {},
   "outputs": [],
   "source": [
    "cash_tips = df[(df['payment_type'] == 'Cash')]['tips'].to_numpy()"
   ]
  },
  {
   "cell_type": "code",
   "execution_count": 19,
   "metadata": {},
   "outputs": [
    {
     "data": {
      "text/plain": [
       "2"
      ]
     },
     "execution_count": 19,
     "metadata": {},
     "output_type": "execute_result"
    }
   ],
   "source": [
    "np.count_nonzero(cash_tips)"
   ]
  },
  {
   "cell_type": "code",
   "execution_count": 20,
   "metadata": {},
   "outputs": [],
   "source": [
    "card_tips = df[df['payment_type'] == 'Credit Card']['tips'].to_numpy()"
   ]
  },
  {
   "cell_type": "code",
   "execution_count": 21,
   "metadata": {},
   "outputs": [
    {
     "data": {
      "image/png": "[encoded data removed]",
      "text/plain": [
       "<Figure size 432x288 with 1 Axes>"
      ]
     },
     "metadata": {
      "needs_background": "light"
     },
     "output_type": "display_data"
    }
   ],
   "source": [
    "plt.scatter(df[(df['payment_type'] == 'Credit Card')]['fare'].to_numpy(), card_tips, c='b')\n",
    "plt.scatter(df[(df['payment_type'] == 'Cash')]['fare'].to_numpy(), cash_tips, c='r')\n",
    "plt.show()"
   ]
  },
  {
   "cell_type": "code",
   "execution_count": 22,
   "metadata": {},
   "outputs": [],
   "source": [
    "def phi(Y, mu_k, cov_k):\n",
    "    norm = multivariate_normal(mean=mu_k, cov=cov_k)\n",
    "    return norm.pdf(Y)\n",
    "\n",
    "def getExpectation(Y, mu, cov, alpha):\n",
    "    N = Y.shape[0]\n",
    "    K = alpha.shape[0]\n",
    "\n",
    "    gamma = np.mat(np.zeros((N, K)))\n",
    "\n",
    "    prob = np.zeros((N, K))\n",
    "    for k in range(K):\n",
    "        prob[:, k] = phi(Y, mu[k], cov[k])\n",
    "    prob = np.mat(prob)\n",
    "\n",
    "    for k in range(K):\n",
    "        gamma[:, k] = alpha[k] * prob[:, k]\n",
    "    for i in range(N):\n",
    "        gamma[i, :] /= np.sum(gamma[i, :])\n",
    "    return gamma\n",
    "\n",
    "def maximize(Y, gamma):\n",
    "    N, D = Y.shape\n",
    "    K = gamma.shape[1]\n",
    "\n",
    "    mu = np.zeros((K, D))\n",
    "    cov = []\n",
    "    alpha = np.zeros(K)\n",
    "\n",
    "    for k in range(K):\n",
    "        Nk = np.sum(gamma[:, k])\n",
    "        for d in range(D):\n",
    "            mu[k, d] = np.sum(np.multiply(gamma[:, k], Y[:, d])) / Nk\n",
    "        cov_k = np.mat(np.zeros((D, D)))\n",
    "        for i in range(N):\n",
    "            cov_k += gamma[i, k] * (Y[i] - mu[k]).T * (Y[i] - mu[k]) / Nk\n",
    "        cov.append(cov_k)\n",
    "        alpha[k] = Nk / N\n",
    "    cov = np.array(cov)\n",
    "    return mu, cov, alpha\n",
    "\n",
    "def scale_data(Y):\n",
    "    for i in range(Y.shape[1]):\n",
    "        max_ = Y[:, i].max()\n",
    "        min_ = Y[:, i].min()\n",
    "        Y[:, i] = (Y[:, i] - min_) / (max_ - min_)\n",
    "    print(\"Data scaled.\")\n",
    "    return Y\n",
    "\n",
    "def init_params(shape, K):\n",
    "    N, D = shape\n",
    "    mu = np.random.rand(K, D)\n",
    "    cov = np.array([np.eye(D)] * K)\n",
    "    alpha = np.array([1.0 / K] * K)\n",
    "    print(\"Parameters initialized.\")\n",
    "    print(\"mu:\", mu, \"cov:\", cov, \"alpha:\", alpha, sep=\"\\n\")\n",
    "    return mu, cov, alpha\n",
    "def GMM_EM(Y, K, times):\n",
    "    Y = scale_data(Y)\n",
    "    mu, cov, alpha = init_params(Y.shape, K)\n",
    "    for i in range(times):\n",
    "        gamma = getExpectation(Y, mu, cov, alpha)\n",
    "        mu, cov, alpha = maximize(Y, gamma)\n",
    "    print(\"{sep} Result {sep}\".format(sep=\"-\" * 20))\n",
    "    print(\"mu:\", mu, \"cov:\", cov, \"alpha:\", alpha, sep=\"\\n\")\n",
    "    return mu, cov, alpha"
   ]
  },
  {
   "cell_type": "code",
   "execution_count": 23,
   "metadata": {},
   "outputs": [
    {
     "name": "stdout",
     "output_type": "stream",
     "text": [
      "\n",
      " mu = 2.45 and sigma = 0.67\n",
      "\n"
     ]
    },
    {
     "data": {
      "image/png": "[encoded data removed]",
      "text/plain": [
       "<Figure size 432x288 with 1 Axes>"
      ]
     },
     "metadata": {
      "needs_background": "light"
     },
     "output_type": "display_data"
    },
    {
     "data": {
      "image/png": "[encoded data removed]",
      "text/plain": [
       "<Figure size 432x288 with 1 Axes>"
      ]
     },
     "metadata": {
      "needs_background": "light"
     },
     "output_type": "display_data"
    }
   ],
   "source": [
    "from scipy import stats\n",
    "from scipy.stats import norm, skew\n",
    "import seaborn as sns\n",
    "#We use the numpy fuction log1p which  applies log(1+x) to all elements of the column\n",
    "dflog = np.log1p(df[\"fare\"])\n",
    "\n",
    "#Check the new distribution \n",
    "sns.distplot(dflog , fit=norm);\n",
    "\n",
    "# Get the fitted parameters used by the function\n",
    "(mu, sigma) = norm.fit(dflog)\n",
    "print( '\\n mu = {:.2f} and sigma = {:.2f}\\n'.format(mu, sigma))\n",
    "\n",
    "#Now plot the distribution\n",
    "plt.legend(['Normal dist. ($\\mu=$ {:.2f} and $\\sigma=$ {:.2f} )'.format(mu, sigma)],\n",
    "            loc='best')\n",
    "plt.ylabel('Frequency')\n",
    "plt.title('SalePrice distribution')\n",
    "\n",
    "#Get also the QQ-plot\n",
    "fig = plt.figure()\n",
    "res = stats.probplot(dflog, plot=plt)\n",
    "plt.show()"
   ]
  },
  {
   "cell_type": "code",
   "execution_count": 24,
   "metadata": {},
   "outputs": [
    {
     "name": "stdout",
     "output_type": "stream",
     "text": [
      "Data scaled.\n",
      "Parameters initialized.\n",
      "mu:\n",
      "[[0.67425775]\n",
      " [0.31458002]]\n",
      "cov:\n",
      "[[[1.]]\n",
      "\n",
      " [[1.]]]\n",
      "alpha:\n",
      "[0.5 0.5]\n",
      "-------------------- Result --------------------\n",
      "mu:\n",
      "[[0.78847594]\n",
      " [0.19628993]]\n",
      "cov:\n",
      "[[[0.01214061]]\n",
      "\n",
      " [[0.01256392]]]\n",
      "alpha:\n",
      "[0.33159029 0.66840971]\n"
     ]
    },
    {
     "data": {
      "image/png": "[encoded data removed]",
      "text/plain": [
       "<Figure size 432x288 with 1 Axes>"
      ]
     },
     "metadata": {
      "needs_background": "light"
     },
     "output_type": "display_data"
    }
   ],
   "source": [
    "df=df[(df['payment_type'] == 'Credit Card')]\n",
    "Y = np.log1p(df['fare'])\n",
    "matY = np.matrix(Y, copy=True).T\n",
    "\n",
    "Y_m = np.array(Y, copy=True)\n",
    "\n",
    "K = 2\n",
    "\n",
    "mu, cov, alpha = GMM_EM(matY, K, 100)\n",
    "\n",
    "N = Y.shape[0]\n",
    "\n",
    "gamma = getExpectation(matY, mu, cov, alpha)\n",
    "\n",
    "category = gamma.argmax(axis=1).flatten().tolist()[0]\n",
    "\n",
    "class1 = np.array([Y_m[i] for i in range(N) if category[i] == 0])\n",
    "class2 = np.array([Y_m[i] for i in range(N) if category[i] == 1])\n",
    "\n",
    "\n",
    "plt.plot(class1, 'rs', label=\"class1\")\n",
    "plt.plot(class2, 'bo', label=\"class2\")\n",
    "plt.legend(loc=\"best\")\n",
    "plt.title(\"GMM Clustering By EM Algorithm\")\n",
    "plt.show()"
   ]
  },
  {
   "cell_type": "code",
   "execution_count": 25,
   "metadata": {},
   "outputs": [
    {
     "data": {
      "image/png": "[encoded data removed]",
      "text/plain": [
       "<Figure size 432x288 with 1 Axes>"
      ]
     },
     "metadata": {
      "needs_background": "light"
     },
     "output_type": "display_data"
    },
    {
     "data": {
      "image/png": "[encoded data removed]",
      "text/plain": [
       "<Figure size 432x288 with 1 Axes>"
      ]
     },
     "metadata": {
      "needs_background": "light"
     },
     "output_type": "display_data"
    }
   ],
   "source": [
    "sns.distplot(class1 , fit=norm,color='r');\n",
    "sns.distplot(class2 , fit=norm,color='b');\n",
    "\n",
    "fig = plt.figure()\n",
    "res = stats.probplot(class1, plot=plt)\n",
    "res = stats.probplot(class2, plot=plt)\n",
    "plt.show()"
   ]
  },
  {
   "cell_type": "code",
   "execution_count": 26,
   "metadata": {},
   "outputs": [
    {
     "name": "stderr",
     "output_type": "stream",
     "text": [
      "/usr/local/lib/python3.6/site-packages/ipykernel_launcher.py:1: SettingWithCopyWarning: \n",
      "A value is trying to be set on a copy of a slice from a DataFrame.\n",
      "Try using .loc[row_indexer,col_indexer] = value instead\n",
      "\n",
      "See the caveats in the documentation: http://pandas.pydata.org/pandas-docs/stable/user_guide/indexing.html#returning-a-view-versus-a-copy\n",
      "  \"\"\"Entry point for launching an IPython kernel.\n"
     ]
    }
   ],
   "source": [
    "df['category']=category"
   ]
  },
  {
   "cell_type": "code",
   "execution_count": 27,
   "metadata": {},
   "outputs": [],
   "source": [
    "fare0=df[df['category'] == 0]['fare'].to_numpy()\n",
    "tips0=df[df['category'] == 0]['tips'].to_numpy()\n",
    "\n",
    "fare1=df[df['category'] == 1]['fare'].to_numpy()\n",
    "tips1=df[df['category'] == 1]['tips'].to_numpy()"
   ]
  },
  {
   "cell_type": "code",
   "execution_count": 48,
   "metadata": {},
   "outputs": [],
   "source": [
    "fare_train, fare_test, tips_train, tips_test = train_test_split(df.fare, df.tips, test_size=0.1)"
   ]
  },
  {
   "cell_type": "code",
   "execution_count": 49,
   "metadata": {
    "scrolled": false
   },
   "outputs": [
    {
     "name": "stdout",
     "output_type": "stream",
     "text": [
      "Data scaled.\n",
      "Parameters initialized.\n",
      "mu:\n",
      "[[0.9256214 ]\n",
      " [0.04153368]]\n",
      "cov:\n",
      "[[[1.]]\n",
      "\n",
      " [[1.]]]\n",
      "alpha:\n",
      "[0.5 0.5]\n",
      "-------------------- Result --------------------\n",
      "mu:\n",
      "[[0.38267397]\n",
      " [0.11540463]]\n",
      "cov:\n",
      "[[[0.08441404]]\n",
      "\n",
      " [[0.02256064]]]\n",
      "alpha:\n",
      "[0.44735059 0.55264941]\n"
     ]
    }
   ],
   "source": [
    "Y = fare_train\n",
    "matY = np.matrix(Y, copy=True).T\n",
    "\n",
    "K = 2\n",
    "\n",
    "mu_train, cov_train, alpha_train = GMM_EM(matY, K, 5)\n",
    "\n",
    "N = Y.shape[0]\n",
    "\n",
    "\n",
    "gamma = getExpectation(matY, mu_train, cov_train, alpha_train)\n",
    "category_train = gamma.argmax(axis=1).flatten().tolist()[0]"
   ]
  },
  {
   "cell_type": "code",
   "execution_count": 50,
   "metadata": {
    "scrolled": false
   },
   "outputs": [
    {
     "data": {
      "image/png": "[encoded data removed]",
      "text/plain": [
       "<Figure size 432x288 with 1 Axes>"
      ]
     },
     "metadata": {
      "needs_background": "light"
     },
     "output_type": "display_data"
    },
    {
     "data": {
      "image/png": "[encoded data removed]",
      "text/plain": [
       "<Figure size 432x288 with 1 Axes>"
      ]
     },
     "metadata": {
      "needs_background": "light"
     },
     "output_type": "display_data"
    }
   ],
   "source": [
    "fare_train1 = np.array([fare_train.values[i] for i in range(N) if category_train[i] == 0])\n",
    "fare_train2 = np.array([fare_train.values[i] for i in range(N) if category_train[i] == 1])\n",
    "\n",
    "tips_train1 = np.array([tips_train.values[i] for i in range(N) if category_train[i] == 0])\n",
    "tips_train2 = np.array([tips_train.values[i] for i in range(N) if category_train[i] == 1])\n",
    "\n",
    "\n",
    "sns.distplot(fare_train1 , fit=norm,color='r');\n",
    "sns.distplot(fare_train2 , fit=norm,color='b');\n",
    "\n",
    "fig = plt.figure()\n",
    "res = stats.probplot(fare_train1, plot=plt)\n",
    "res = stats.probplot(fare_train2, plot=plt)\n",
    "plt.show()\n",
    "\n"
   ]
  },
  {
   "cell_type": "code",
   "execution_count": 51,
   "metadata": {},
   "outputs": [
    {
     "name": "stdout",
     "output_type": "stream",
     "text": [
      "Data scaled.\n"
     ]
    }
   ],
   "source": [
    "Y = fare_test\n",
    "matY = np.matrix(Y, copy=True).T\n",
    "\n",
    "matY = scale_data(matY)\n",
    "\n",
    "N = Y.shape[0]\n",
    "gamma = getExpectation(matY, mu_train, cov_train, alpha_train)\n",
    "category_test = gamma.argmax(axis=1).flatten().tolist()[0]"
   ]
  },
  {
   "cell_type": "code",
   "execution_count": 52,
   "metadata": {},
   "outputs": [
    {
     "data": {
      "image/png": "[encoded data removed]",
      "text/plain": [
       "<Figure size 432x288 with 1 Axes>"
      ]
     },
     "metadata": {
      "needs_background": "light"
     },
     "output_type": "display_data"
    },
    {
     "data": {
      "image/png": "[encoded data removed]",
      "text/plain": [
       "<Figure size 432x288 with 1 Axes>"
      ]
     },
     "metadata": {
      "needs_background": "light"
     },
     "output_type": "display_data"
    }
   ],
   "source": [
    "fare_test1 = np.array([fare_test.values[i] for i in range(N) if category_test[i] == 0])\n",
    "fare_test2 = np.array([fare_test.values[i] for i in range(N) if category_test[i] == 1])\n",
    "\n",
    "tips_test1 = np.array([tips_test.values[i] for i in range(N) if category_test[i] == 0])\n",
    "tips_test2 = np.array([tips_test.values[i] for i in range(N) if category_test[i] == 1])\n",
    "\n",
    "sns.distplot(fare_test1 , fit=norm,color='r');\n",
    "sns.distplot(fare_test2 , fit=norm,color='b');\n",
    "\n",
    "fig = plt.figure()\n",
    "res = stats.probplot(fare_test1, plot=plt)\n",
    "res = stats.probplot(fare_test2, plot=plt)\n",
    "plt.show()"
   ]
  },
  {
   "cell_type": "code",
   "execution_count": 53,
   "metadata": {},
   "outputs": [],
   "source": [
    "train1 = fare_train1.reshape(-1, 1)\n",
    "train2 = fare_train2.reshape(-1, 1)"
   ]
  },
  {
   "cell_type": "code",
   "execution_count": 54,
   "metadata": {},
   "outputs": [],
   "source": [
    "test1 = fare_test1.reshape(-1, 1)\n",
    "test2 = fare_test2.reshape(-1, 1)"
   ]
  },
  {
   "cell_type": "code",
   "execution_count": null,
   "metadata": {},
   "outputs": [],
   "source": [
    "model1=[]\n",
    "model2=[]\n",
    "weight=[]"
   ]
  },
  {
   "cell_type": "code",
   "execution_count": null,
   "metadata": {},
   "outputs": [],
   "source": []
  },
  {
   "cell_type": "code",
   "execution_count": 55,
   "metadata": {},
   "outputs": [],
   "source": [
    "def try_different_method(model,train,tips_train,test):\n",
    "    model.fit(train, tips_train)\n",
    "    tips_predict = model.predict(test)\n",
    "    return tips_predict,model"
   ]
  },
  {
   "cell_type": "code",
   "execution_count": 56,
   "metadata": {},
   "outputs": [],
   "source": [
    "def try_different_method2(model,train,tips_train,test):\n",
    "    model.fit(train, tips_train.astype('int'))\n",
    "    tips_predict = model.predict(test)\n",
    "    return tips_predict,model\n",
    "\n"
   ]
  },
  {
   "cell_type": "code",
   "execution_count": 57,
   "metadata": {},
   "outputs": [],
   "source": [
    "def evaluate():\n",
    "    tips_test=np.append(tips_test1,tips_test2)\n",
    "    tips_predict=np.append(tips_predict1,tips_predict2)\n",
    "\n",
    "    tips_rmse = math.sqrt(mean_squared_error(tips_test, tips_predict))\n",
    "    tips_r2 = r2_score(tips_test, tips_predict, multioutput='variance_weighted')\n",
    "    print(tips_rmse)\n",
    "    print(tips_r2)\n",
    "    return tips_r2"
   ]
  },
  {
   "cell_type": "code",
   "execution_count": 58,
   "metadata": {},
   "outputs": [],
   "source": [
    "def evaluate2():\n",
    "    tips_test=np.append(tips_test1,tips_test2)\n",
    "    tips_predict=np.append(tips_predict1,tips_predict2)\n",
    "\n",
    "    tips_rmse = math.sqrt(mean_squared_error(tips_test.astype('int'), tips_predict))\n",
    "    tips_r2 = r2_score(tips_test.astype('int'), tips_predict, multioutput='variance_weighted')\n",
    "    print(tips_rmse)\n",
    "    print(tips_r2)\n",
    "    return tips_r2\n"
   ]
  },
  {
   "cell_type": "code",
   "execution_count": 59,
   "metadata": {},
   "outputs": [
    {
     "name": "stdout",
     "output_type": "stream",
     "text": [
      "1.7809068930946568\n",
      "0.6658818072127255\n"
     ]
    }
   ],
   "source": [
    "tips_predict1,model = try_different_method(DecisionTreeRegressor(),train1,tips_train1,test1)\n",
    "model1.append(model)\n",
    "tips_predict2,model = try_different_method(DecisionTreeRegressor(),train2,tips_train2,test2)\n",
    "model2.append(model)\n",
    "score_r2=evaluate()\n",
    "weight.append(score_r2)"
   ]
  },
  {
   "cell_type": "code",
   "execution_count": 60,
   "metadata": {},
   "outputs": [
    {
     "name": "stdout",
     "output_type": "stream",
     "text": [
      "1.6438677434216857\n",
      "0.7153236156513003\n"
     ]
    },
    {
     "name": "stderr",
     "output_type": "stream",
     "text": [
      "/usr/local/lib/python3.6/site-packages/sklearn/ensemble/forest.py:245: FutureWarning: The default value of n_estimators will change from 10 in version 0.20 to 100 in 0.22.\n",
      "  \"10 in version 0.20 to 100 in 0.22.\", FutureWarning)\n",
      "/usr/local/lib/python3.6/site-packages/sklearn/ensemble/forest.py:245: FutureWarning: The default value of n_estimators will change from 10 in version 0.20 to 100 in 0.22.\n",
      "  \"10 in version 0.20 to 100 in 0.22.\", FutureWarning)\n"
     ]
    }
   ],
   "source": [
    "tips_predict1,model = try_different_method(RandomForestRegressor(),train1,tips_train1,test1)\n",
    "model1.append(model)\n",
    "tips_predict2,model = try_different_method(RandomForestRegressor(),train2,tips_train2,test2)\n",
    "model2.append(model)\n",
    "score_r2=evaluate()\n",
    "weight.append(score_r2)"
   ]
  },
  {
   "cell_type": "code",
   "execution_count": 61,
   "metadata": {},
   "outputs": [
    {
     "name": "stdout",
     "output_type": "stream",
     "text": [
      "1.489715004170527\n",
      "0.7360757955294541\n"
     ]
    }
   ],
   "source": [
    "tips_predict1,model = try_different_method2(KNeighborsRegressor(n_neighbors=50),train1,tips_train1,test1)\n",
    "model1.append(model)\n",
    "tips_predict2,model = try_different_method2(KNeighborsRegressor(n_neighbors=50),train2,tips_train2,test2)\n",
    "model2.append(model)\n",
    "score_r2=evaluate()\n",
    "weight.append(score_r2)"
   ]
  },
  {
   "cell_type": "code",
   "execution_count": 62,
   "metadata": {},
   "outputs": [
    {
     "name": "stdout",
     "output_type": "stream",
     "text": [
      "1.5204605452383078\n",
      "0.7564612884915476\n"
     ]
    }
   ],
   "source": [
    "tips_predict1,model = try_different_method(svm.SVR(gamma='auto'),train1,tips_train1,test1)\n",
    "model1.append(model)\n",
    "tips_predict2 = try_different_method(svm.SVR(gamma='auto'),train2,tips_train2,test2)\n",
    "model2.append,model(model)\n",
    "score_r2=evaluate()\n",
    "weight.append(score_r2)"
   ]
  },
  {
   "cell_type": "code",
   "execution_count": 63,
   "metadata": {},
   "outputs": [
    {
     "name": "stdout",
     "output_type": "stream",
     "text": [
      "1.7688609326800266\n",
      "0.6703864366891337\n"
     ]
    }
   ],
   "source": [
    "tips_predict1,model = try_different_method(MLPRegressor(),train1,tips_train1,test1)\n",
    "model1.append(model)\n",
    "tips_predict2,model = try_different_method(MLPRegressor(),train2,tips_train2,test2)\n",
    "model2.append(model)\n",
    "score_r2=evaluate()\n",
    "weight.append(score_r2)"
   ]
  },
  {
   "cell_type": "code",
   "execution_count": 64,
   "metadata": {},
   "outputs": [
    {
     "name": "stdout",
     "output_type": "stream",
     "text": [
      "1.5013221686128044\n",
      "0.7319470246299515\n"
     ]
    }
   ],
   "source": [
    "tips_predict1,model = try_different_method2(KNeighborsClassifier(n_neighbors=50),train1,tips_train1,test1)\n",
    "model1.append(model)\n",
    "tips_predict2,model = try_different_method2(KNeighborsClassifier(n_neighbors=50),train2,tips_train2,test2)\n",
    "model2.append(model)\n",
    "score_r2=evaluate()\n",
    "weight.append(score_r2)"
   ]
  },
  {
   "cell_type": "code",
   "execution_count": 65,
   "metadata": {},
   "outputs": [
    {
     "name": "stdout",
     "output_type": "stream",
     "text": [
      "2.3162640965743444\n",
      "0.36195841073889856\n"
     ]
    }
   ],
   "source": [
    "'''tips_predict1 = try_different_method2(DecisionTreeClassifier(),train1,tips_train1,test1)\n",
    "tips_predict2 = try_different_method2(DecisionTreeClassifier(),train2,tips_train2,test2)\n",
    "evaluate2()'''"
   ]
  },
  {
   "cell_type": "code",
   "execution_count": 66,
   "metadata": {},
   "outputs": [
    {
     "name": "stdout",
     "output_type": "stream",
     "text": [
      "1.5735915849388864\n",
      "0.7055192664948763\n"
     ]
    }
   ],
   "source": [
    "tips_predict1,model = try_different_method2(SVC(gamma='auto'),train1,tips_train1,test1)\n",
    "model1.append(model)\n",
    "tips_predict2,model = try_different_method2(SVC(gamma='auto'),train2,tips_train2,test2)\n",
    "model2.append(model)\n",
    "score_r2=evaluate()\n",
    "weight.append(score_r2)"
   ]
  },
  {
   "cell_type": "code",
   "execution_count": 67,
   "metadata": {},
   "outputs": [
    {
     "name": "stdout",
     "output_type": "stream",
     "text": [
      "1.6243224077962883\n",
      "0.7220528885839433\n"
     ]
    }
   ],
   "source": [
    "tips_predict1,model = try_different_method(LinearRegression(),train1,tips_train1,test1)\n",
    "model1.append(model)\n",
    "tips_predict2,model = try_different_method(LinearRegression(),train2,tips_train2,test2)\n",
    "model2.append(model)\n",
    "score_r2=evaluate()\n",
    "weight.append(score_r2)"
   ]
  },
  {
   "cell_type": "code",
   "execution_count": null,
   "metadata": {},
   "outputs": [],
   "source": []
  },
  {
   "cell_type": "code",
   "execution_count": null,
   "metadata": {},
   "outputs": [],
   "source": []
  }
 ],
 "metadata": {
  "kernelspec": {
   "display_name": "Python 3",
   "language": "python",
   "name": "python3"
  },
  "language_info": {
   "codemirror_mode": {
    "name": "ipython",
    "version": 3
   },
   "file_extension": ".py",
   "mimetype": "text/x-python",
   "name": "python",
   "nbconvert_exporter": "python",
   "pygments_lexer": "ipython3",
   "version": "3.7.4"
  }
 },
 "nbformat": 4,
 "nbformat_minor": 2
}
