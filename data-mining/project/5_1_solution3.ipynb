{
 "cells": [
  {
   "cell_type": "markdown",
   "metadata": {},
   "source": [
    "### solution3 - use lightgbm"
   ]
  },
  {
   "cell_type": "code",
   "execution_count": 78,
   "metadata": {},
   "outputs": [],
   "source": [
    "import lightgbm as lgbm\n",
    "import gc"
   ]
  },
  {
   "cell_type": "code",
   "execution_count": 79,
   "metadata": {},
   "outputs": [],
   "source": [
    "df_5_1_test = pd.read_csv('5_1_testing.csv', sep=',', parse_dates=['trip_start_timestamp'])"
   ]
  },
  {
   "cell_type": "code",
   "execution_count": 80,
   "metadata": {},
   "outputs": [
    {
     "data": {
      "text/plain": [
       "(992011, 17)"
      ]
     },
     "execution_count": 80,
     "metadata": {},
     "output_type": "execute_result"
    }
   ],
   "source": [
    "df.shape"
   ]
  },
  {
   "cell_type": "code",
   "execution_count": 81,
   "metadata": {},
   "outputs": [],
   "source": [
    "y = df[['fare']]\n",
    "X = df.loc[:,['pickup_latitude','pickup_longitude','weekday','hour']]"
   ]
  },
  {
   "cell_type": "code",
   "execution_count": 89,
   "metadata": {},
   "outputs": [],
   "source": [
    "y1=df[['tips']]"
   ]
  },
  {
   "cell_type": "code",
   "execution_count": 82,
   "metadata": {},
   "outputs": [
    {
     "name": "stdout",
     "output_type": "stream",
     "text": [
      "max:[784. 785.   6.  23.], min:[0. 1. 0. 0.]\n"
     ]
    }
   ],
   "source": [
    "from sklearn.preprocessing import MinMaxScaler\n",
    "\n",
    "scaler = MinMaxScaler()\n",
    "X_scaler = scaler.fit(X)\n",
    "print(\"max:{}, min:{}\".format(scaler.data_max_, scaler.data_min_))\n",
    "X_mms= scaler.transform(X)"
   ]
  },
  {
   "cell_type": "code",
   "execution_count": 83,
   "metadata": {},
   "outputs": [
    {
     "name": "stdout",
     "output_type": "stream",
     "text": [
      "Training until validation scores don't improve for 500 rounds\n",
      "[500]\tvalid_0's rmse: 7.75559\n",
      "[1000]\tvalid_0's rmse: 7.74506\n",
      "[1500]\tvalid_0's rmse: 7.74108\n",
      "[2000]\tvalid_0's rmse: 7.73999\n",
      "[2500]\tvalid_0's rmse: 7.73922\n",
      "Early stopping, best iteration is:\n",
      "[2363]\tvalid_0's rmse: 7.73909\n"
     ]
    },
    {
     "data": {
      "text/plain": [
       "450"
      ]
     },
     "execution_count": 83,
     "metadata": {},
     "output_type": "execute_result"
    }
   ],
   "source": [
    "x_train,x_test,y_train,y_test = train_test_split(X_mms,y,random_state=42,test_size=0.30)\n",
    "\n",
    "gc.collect()\n",
    "\n",
    "params = {\n",
    "        'boosting_type':'gbdt',\n",
    "        'objective': 'regression',\n",
    "        'nthread': 4,\n",
    "        'num_leaves': 31,\n",
    "        'learning_rate': 0.03,\n",
    "        'max_depth': -1,\n",
    "        'subsample': 0.8,\n",
    "        'bagging_fraction' : 1,\n",
    "        'max_bin' : 5000 ,\n",
    "        'bagging_freq': 20,\n",
    "        'colsample_bytree': 0.6,\n",
    "        'metric': 'rmse',\n",
    "        'min_split_gain': 0.5,\n",
    "        'min_child_weight': 1,\n",
    "        'min_child_samples': 10,\n",
    "        'scale_pos_weight':1,\n",
    "        'zero_as_missing': True,\n",
    "        'seed':0,\n",
    "        'num_rounds':50000\n",
    "    }\n",
    "train_set = lgbm.Dataset(x_train, y_train, silent=False)\n",
    "valid_set = lgbm.Dataset(x_test, y_test, silent=False)\n",
    "model = lgbm.train(params, train_set = train_set, num_boost_round=500,early_stopping_rounds=500,verbose_eval=500, valid_sets=valid_set)\n",
    "gc.collect()"
   ]
  },
  {
   "cell_type": "code",
   "execution_count": 90,
   "metadata": {},
   "outputs": [
    {
     "name": "stdout",
     "output_type": "stream",
     "text": [
      "Training until validation scores don't improve for 500 rounds\n",
      "[500]\tvalid_0's rmse: 2.14786\n",
      "[1000]\tvalid_0's rmse: 2.14745\n",
      "Early stopping, best iteration is:\n",
      "[701]\tvalid_0's rmse: 2.14745\n"
     ]
    },
    {
     "data": {
      "text/plain": [
       "54"
      ]
     },
     "execution_count": 90,
     "metadata": {},
     "output_type": "execute_result"
    }
   ],
   "source": [
    "x_train,x_test,y1_train,y1_test = train_test_split(X_mms,y1,random_state=42,test_size=0.30)\n",
    "\n",
    "gc.collect()\n",
    "train_set = lgbm.Dataset(x_train, y1_train, silent=False)\n",
    "valid_set = lgbm.Dataset(x_test, y1_test, silent=False)\n",
    "model_1 = lgbm.train(params, train_set = train_set, num_boost_round=500,early_stopping_rounds=500,verbose_eval=500, valid_sets=valid_set)\n",
    "gc.collect()"
   ]
  },
  {
   "cell_type": "code",
   "execution_count": 85,
   "metadata": {},
   "outputs": [
    {
     "data": {
      "text/plain": [
       "<matplotlib.axes._subplots.AxesSubplot at 0x124223650>"
      ]
     },
     "execution_count": 85,
     "metadata": {},
     "output_type": "execute_result"
    },
    {
     "data": {
      "image/png": "[encoded data removed]",
      "text/plain": [
       "<Figure size 864x720 with 1 Axes>"
      ]
     },
     "metadata": {
      "needs_background": "light"
     },
     "output_type": "display_data"
    }
   ],
   "source": [
    "lgbm.plot_importance(model, figsize=(12, 10))"
   ]
  },
  {
   "cell_type": "code",
   "execution_count": 86,
   "metadata": {},
   "outputs": [
    {
     "data": {
      "text/plain": [
       "array([ 8.86761414, 12.27373914,  8.95465728, ...,  8.2670705 ,\n",
       "        7.90532128, 21.29557287])"
      ]
     },
     "execution_count": 86,
     "metadata": {},
     "output_type": "execute_result"
    }
   ],
   "source": [
    "submission = model.predict(x_test)\n",
    "submission"
   ]
  },
  {
   "cell_type": "code",
   "execution_count": 95,
   "metadata": {},
   "outputs": [
    {
     "data": {
      "text/plain": [
       "array([1.06380928, 1.45884699, 1.20204823, ..., 0.85580085, 1.13892974,\n",
       "       2.44944306])"
      ]
     },
     "execution_count": 95,
     "metadata": {},
     "output_type": "execute_result"
    }
   ],
   "source": [
    "submission_1 = model_1.predict(x_test)\n",
    "submission_1"
   ]
  },
  {
   "cell_type": "code",
   "execution_count": 87,
   "metadata": {},
   "outputs": [
    {
     "data": {
      "text/plain": [
       "0.5250445117502027"
      ]
     },
     "execution_count": 87,
     "metadata": {},
     "output_type": "execute_result"
    }
   ],
   "source": [
    "#fare\n",
    "r2_score(y_test, submission,multioutput='variance_weighted') "
   ]
  },
  {
   "cell_type": "code",
   "execution_count": 96,
   "metadata": {},
   "outputs": [
    {
     "data": {
      "text/plain": [
       "0.2771762407564743"
      ]
     },
     "execution_count": 96,
     "metadata": {},
     "output_type": "execute_result"
    }
   ],
   "source": [
    "#tips\n",
    "r2_score(y1_test, submission_1,multioutput='variance_weighted')"
   ]
  },
  {
   "cell_type": "code",
   "execution_count": 88,
   "metadata": {},
   "outputs": [],
   "source": [
    "s3_df_test = df_5_1_test[:]"
   ]
  },
  {
   "cell_type": "code",
   "execution_count": 101,
   "metadata": {},
   "outputs": [],
   "source": [
    "s3_df_test['trip_start_timestamp'] = pd.to_datetime(s3_df_test['trip_start_timestamp'], errors='coerce')\n",
    "\n",
    "s3_df_test['weekday'] = s3_df_test.trip_start_timestamp.apply(lambda t: t.weekday())\n",
    "s3_df_test['hour'] = s3_df_test.trip_start_timestamp.apply(lambda t: t.hour)\n",
    "\n"
   ]
  },
  {
   "cell_type": "code",
   "execution_count": 106,
   "metadata": {},
   "outputs": [],
   "source": [
    "def predict_fare_3():\n",
    "    \n",
    "    order1_predict = model.predict(s3_df_test.loc[:,['order1_pickup_latitude','order1_pickup_longitude','weekday','hour']])\n",
    "    order2_predict = model.predict(s3_df_test.loc[:,['order2_pickup_latitude','order2_pickup_longitude','weekday','hour']])\n",
    "    order3_predict = model.predict(s3_df_test.loc[:,['order3_pickup_latitude','order3_pickup_longitude','weekday','hour']])\n",
    "    s3_df_test['order1_fare'] = order1_predict\n",
    "    s3_df_test['order2_fare'] = order2_predict\n",
    "    s3_df_test['order3_fare'] = order3_predict"
   ]
  },
  {
   "cell_type": "code",
   "execution_count": 107,
   "metadata": {},
   "outputs": [],
   "source": [
    "def predict_tips_3():\n",
    "    \n",
    "    order1_predict = model_1.predict(s3_df_test.loc[:,['order1_pickup_latitude','order1_pickup_longitude','weekday','hour']])\n",
    "    order2_predict = model_1.predict(s3_df_test.loc[:,['order2_pickup_latitude','order2_pickup_longitude','weekday','hour']])\n",
    "    order3_predict = model_1.predict(s3_df_test.loc[:,['order3_pickup_latitude','order3_pickup_longitude','weekday','hour']])\n",
    "    s3_df_test['order1_tips'] = order1_predict\n",
    "    s3_df_test['order2_tips'] = order2_predict\n",
    "    s3_df_test['order3_tips'] = order3_predict"
   ]
  },
  {
   "cell_type": "code",
   "execution_count": 108,
   "metadata": {},
   "outputs": [],
   "source": [
    "def choose_best_3():\n",
    "    for index, row in s3_df_test.iterrows():\n",
    "        total1 = row['order1_fare'] + row['order1_tips']\n",
    "        total2 = row['order2_fare'] + row['order2_tips']\n",
    "        total3 = row['order3_fare'] + row['order3_tips']\n",
    "        order_total = [total1, total2, total3]\n",
    "        max_total = np.argmax(order_total) + 1\n",
    "        s3_df_test.iloc[index,13]= int(max_total)"
   ]
  },
  {
   "cell_type": "code",
   "execution_count": 109,
   "metadata": {},
   "outputs": [],
   "source": [
    "predict_fare_3()\n",
    "predict_tips_3()\n",
    "choose_best_3()"
   ]
  },
  {
   "cell_type": "code",
   "execution_count": 112,
   "metadata": {},
   "outputs": [],
   "source": [
    "s1_df_test.to_csv('s3_5_1_output.csv', mode='w+', index=False,header=True)"
   ]
  },
  {
   "cell_type": "code",
   "execution_count": 110,
   "metadata": {},
   "outputs": [
    {
     "data": {
      "text/html": [
       "<div>\n",
       "<style scoped>\n",
       "    .dataframe tbody tr th:only-of-type {\n",
       "        vertical-align: middle;\n",
       "    }\n",
       "\n",
       "    .dataframe tbody tr th {\n",
       "        vertical-align: top;\n",
       "    }\n",
       "\n",
       "    .dataframe thead th {\n",
       "        text-align: right;\n",
       "    }\n",
       "</style>\n",
       "<table border=\"1\" class=\"dataframe\">\n",
       "  <thead>\n",
       "    <tr style=\"text-align: right;\">\n",
       "      <th></th>\n",
       "      <th>order1_pickup_latitude</th>\n",
       "      <th>order1_pickup_longitude</th>\n",
       "      <th>order2_pickup_latitude</th>\n",
       "      <th>order2_pickup_longitude</th>\n",
       "      <th>order3_pickup_latitude</th>\n",
       "      <th>order3_pickup_longitude</th>\n",
       "      <th>trip_start_timestamp</th>\n",
       "      <th>order1_fare</th>\n",
       "      <th>order1_tips</th>\n",
       "      <th>order2_fare</th>\n",
       "      <th>order2_tips</th>\n",
       "      <th>order3_fare</th>\n",
       "      <th>order3_tips</th>\n",
       "      <th>best</th>\n",
       "      <th>weekday</th>\n",
       "      <th>hour</th>\n",
       "    </tr>\n",
       "  </thead>\n",
       "  <tbody>\n",
       "    <tr>\n",
       "      <th>0</th>\n",
       "      <td>175.0</td>\n",
       "      <td>675.0</td>\n",
       "      <td>660.0</td>\n",
       "      <td>120.0</td>\n",
       "      <td>130.0</td>\n",
       "      <td>532.0</td>\n",
       "      <td>2016-02-01 08:00:00</td>\n",
       "      <td>12.927619</td>\n",
       "      <td>1.263593</td>\n",
       "      <td>8.887500</td>\n",
       "      <td>1.072500</td>\n",
       "      <td>17.246496</td>\n",
       "      <td>0.666667</td>\n",
       "      <td>3</td>\n",
       "      <td>0</td>\n",
       "      <td>8</td>\n",
       "    </tr>\n",
       "    <tr>\n",
       "      <th>1</th>\n",
       "      <td>686.0</td>\n",
       "      <td>500.0</td>\n",
       "      <td>37.0</td>\n",
       "      <td>370.0</td>\n",
       "      <td>688.0</td>\n",
       "      <td>206.0</td>\n",
       "      <td>2016-02-01 08:00:00</td>\n",
       "      <td>13.553571</td>\n",
       "      <td>0.520661</td>\n",
       "      <td>41.250000</td>\n",
       "      <td>1.134030</td>\n",
       "      <td>13.994053</td>\n",
       "      <td>0.437143</td>\n",
       "      <td>2</td>\n",
       "      <td>0</td>\n",
       "      <td>8</td>\n",
       "    </tr>\n",
       "    <tr>\n",
       "      <th>2</th>\n",
       "      <td>173.0</td>\n",
       "      <td>203.0</td>\n",
       "      <td>779.0</td>\n",
       "      <td>81.0</td>\n",
       "      <td>744.0</td>\n",
       "      <td>605.0</td>\n",
       "      <td>2016-02-01 08:00:00</td>\n",
       "      <td>21.265273</td>\n",
       "      <td>0.261479</td>\n",
       "      <td>13.728945</td>\n",
       "      <td>0.679979</td>\n",
       "      <td>7.450000</td>\n",
       "      <td>1.792162</td>\n",
       "      <td>1</td>\n",
       "      <td>0</td>\n",
       "      <td>8</td>\n",
       "    </tr>\n",
       "    <tr>\n",
       "      <th>3</th>\n",
       "      <td>660.0</td>\n",
       "      <td>120.0</td>\n",
       "      <td>419.0</td>\n",
       "      <td>615.0</td>\n",
       "      <td>175.0</td>\n",
       "      <td>675.0</td>\n",
       "      <td>2016-02-01 08:00:00</td>\n",
       "      <td>8.887500</td>\n",
       "      <td>1.072500</td>\n",
       "      <td>25.097368</td>\n",
       "      <td>0.624138</td>\n",
       "      <td>12.927619</td>\n",
       "      <td>1.263593</td>\n",
       "      <td>2</td>\n",
       "      <td>0</td>\n",
       "      <td>8</td>\n",
       "    </tr>\n",
       "    <tr>\n",
       "      <th>4</th>\n",
       "      <td>167.0</td>\n",
       "      <td>754.0</td>\n",
       "      <td>395.0</td>\n",
       "      <td>408.0</td>\n",
       "      <td>744.0</td>\n",
       "      <td>605.0</td>\n",
       "      <td>2016-02-01 08:00:00</td>\n",
       "      <td>14.650833</td>\n",
       "      <td>1.817292</td>\n",
       "      <td>8.717186</td>\n",
       "      <td>4.778892</td>\n",
       "      <td>7.450000</td>\n",
       "      <td>1.792162</td>\n",
       "      <td>1</td>\n",
       "      <td>0</td>\n",
       "      <td>8</td>\n",
       "    </tr>\n",
       "    <tr>\n",
       "      <th>...</th>\n",
       "      <td>...</td>\n",
       "      <td>...</td>\n",
       "      <td>...</td>\n",
       "      <td>...</td>\n",
       "      <td>...</td>\n",
       "      <td>...</td>\n",
       "      <td>...</td>\n",
       "      <td>...</td>\n",
       "      <td>...</td>\n",
       "      <td>...</td>\n",
       "      <td>...</td>\n",
       "      <td>...</td>\n",
       "      <td>...</td>\n",
       "      <td>...</td>\n",
       "      <td>...</td>\n",
       "      <td>...</td>\n",
       "    </tr>\n",
       "    <tr>\n",
       "      <th>145</th>\n",
       "      <td>470.0</td>\n",
       "      <td>676.0</td>\n",
       "      <td>411.0</td>\n",
       "      <td>545.0</td>\n",
       "      <td>695.0</td>\n",
       "      <td>366.0</td>\n",
       "      <td>2016-02-01 08:00:00</td>\n",
       "      <td>8.771050</td>\n",
       "      <td>0.000000</td>\n",
       "      <td>18.046319</td>\n",
       "      <td>0.681538</td>\n",
       "      <td>17.444149</td>\n",
       "      <td>0.461755</td>\n",
       "      <td>2</td>\n",
       "      <td>0</td>\n",
       "      <td>8</td>\n",
       "    </tr>\n",
       "    <tr>\n",
       "      <th>146</th>\n",
       "      <td>686.0</td>\n",
       "      <td>500.0</td>\n",
       "      <td>18.0</td>\n",
       "      <td>610.0</td>\n",
       "      <td>158.0</td>\n",
       "      <td>270.0</td>\n",
       "      <td>2016-02-01 08:00:00</td>\n",
       "      <td>13.553571</td>\n",
       "      <td>0.520661</td>\n",
       "      <td>9.754030</td>\n",
       "      <td>0.888532</td>\n",
       "      <td>13.916667</td>\n",
       "      <td>0.419643</td>\n",
       "      <td>3</td>\n",
       "      <td>0</td>\n",
       "      <td>8</td>\n",
       "    </tr>\n",
       "    <tr>\n",
       "      <th>147</th>\n",
       "      <td>599.0</td>\n",
       "      <td>346.0</td>\n",
       "      <td>64.0</td>\n",
       "      <td>231.0</td>\n",
       "      <td>744.0</td>\n",
       "      <td>605.0</td>\n",
       "      <td>2016-02-01 08:00:00</td>\n",
       "      <td>10.718289</td>\n",
       "      <td>0.937500</td>\n",
       "      <td>34.722527</td>\n",
       "      <td>0.272222</td>\n",
       "      <td>7.450000</td>\n",
       "      <td>1.792162</td>\n",
       "      <td>2</td>\n",
       "      <td>0</td>\n",
       "      <td>8</td>\n",
       "    </tr>\n",
       "    <tr>\n",
       "      <th>148</th>\n",
       "      <td>700.0</td>\n",
       "      <td>659.0</td>\n",
       "      <td>411.0</td>\n",
       "      <td>545.0</td>\n",
       "      <td>130.0</td>\n",
       "      <td>532.0</td>\n",
       "      <td>2016-02-01 08:00:00</td>\n",
       "      <td>12.528209</td>\n",
       "      <td>0.951195</td>\n",
       "      <td>18.046319</td>\n",
       "      <td>0.681538</td>\n",
       "      <td>17.246496</td>\n",
       "      <td>0.666667</td>\n",
       "      <td>2</td>\n",
       "      <td>0</td>\n",
       "      <td>8</td>\n",
       "    </tr>\n",
       "    <tr>\n",
       "      <th>149</th>\n",
       "      <td>173.0</td>\n",
       "      <td>203.0</td>\n",
       "      <td>660.0</td>\n",
       "      <td>120.0</td>\n",
       "      <td>433.0</td>\n",
       "      <td>757.0</td>\n",
       "      <td>2016-02-01 08:00:00</td>\n",
       "      <td>21.265273</td>\n",
       "      <td>0.261479</td>\n",
       "      <td>8.887500</td>\n",
       "      <td>1.072500</td>\n",
       "      <td>19.936786</td>\n",
       "      <td>1.121582</td>\n",
       "      <td>1</td>\n",
       "      <td>0</td>\n",
       "      <td>8</td>\n",
       "    </tr>\n",
       "  </tbody>\n",
       "</table>\n",
       "<p>150 rows × 16 columns</p>\n",
       "</div>"
      ],
      "text/plain": [
       "     order1_pickup_latitude  order1_pickup_longitude  order2_pickup_latitude  \\\n",
       "0                     175.0                    675.0                   660.0   \n",
       "1                     686.0                    500.0                    37.0   \n",
       "2                     173.0                    203.0                   779.0   \n",
       "3                     660.0                    120.0                   419.0   \n",
       "4                     167.0                    754.0                   395.0   \n",
       "..                      ...                      ...                     ...   \n",
       "145                   470.0                    676.0                   411.0   \n",
       "146                   686.0                    500.0                    18.0   \n",
       "147                   599.0                    346.0                    64.0   \n",
       "148                   700.0                    659.0                   411.0   \n",
       "149                   173.0                    203.0                   660.0   \n",
       "\n",
       "     order2_pickup_longitude  order3_pickup_latitude  order3_pickup_longitude  \\\n",
       "0                      120.0                   130.0                    532.0   \n",
       "1                      370.0                   688.0                    206.0   \n",
       "2                       81.0                   744.0                    605.0   \n",
       "3                      615.0                   175.0                    675.0   \n",
       "4                      408.0                   744.0                    605.0   \n",
       "..                       ...                     ...                      ...   \n",
       "145                    545.0                   695.0                    366.0   \n",
       "146                    610.0                   158.0                    270.0   \n",
       "147                    231.0                   744.0                    605.0   \n",
       "148                    545.0                   130.0                    532.0   \n",
       "149                    120.0                   433.0                    757.0   \n",
       "\n",
       "    trip_start_timestamp  order1_fare  order1_tips  order2_fare  order2_tips  \\\n",
       "0    2016-02-01 08:00:00    12.927619     1.263593     8.887500     1.072500   \n",
       "1    2016-02-01 08:00:00    13.553571     0.520661    41.250000     1.134030   \n",
       "2    2016-02-01 08:00:00    21.265273     0.261479    13.728945     0.679979   \n",
       "3    2016-02-01 08:00:00     8.887500     1.072500    25.097368     0.624138   \n",
       "4    2016-02-01 08:00:00    14.650833     1.817292     8.717186     4.778892   \n",
       "..                   ...          ...          ...          ...          ...   \n",
       "145  2016-02-01 08:00:00     8.771050     0.000000    18.046319     0.681538   \n",
       "146  2016-02-01 08:00:00    13.553571     0.520661     9.754030     0.888532   \n",
       "147  2016-02-01 08:00:00    10.718289     0.937500    34.722527     0.272222   \n",
       "148  2016-02-01 08:00:00    12.528209     0.951195    18.046319     0.681538   \n",
       "149  2016-02-01 08:00:00    21.265273     0.261479     8.887500     1.072500   \n",
       "\n",
       "     order3_fare  order3_tips  best  weekday  hour  \n",
       "0      17.246496     0.666667     3        0     8  \n",
       "1      13.994053     0.437143     2        0     8  \n",
       "2       7.450000     1.792162     1        0     8  \n",
       "3      12.927619     1.263593     2        0     8  \n",
       "4       7.450000     1.792162     1        0     8  \n",
       "..           ...          ...   ...      ...   ...  \n",
       "145    17.444149     0.461755     2        0     8  \n",
       "146    13.916667     0.419643     3        0     8  \n",
       "147     7.450000     1.792162     2        0     8  \n",
       "148    17.246496     0.666667     2        0     8  \n",
       "149    19.936786     1.121582     1        0     8  \n",
       "\n",
       "[150 rows x 16 columns]"
      ]
     },
     "execution_count": 110,
     "metadata": {},
     "output_type": "execute_result"
    }
   ],
   "source": [
    "s1_df_test"
   ]
  },
  {
   "cell_type": "code",
   "execution_count": null,
   "metadata": {},
   "outputs": [],
   "source": []
  },
  {
   "cell_type": "code",
   "execution_count": null,
   "metadata": {},
   "outputs": [],
   "source": [
    "### solution3 - use lightgbm\n",
    "\n",
    "import lightgbm as lgbm\n",
    "import gc\n",
    "\n",
    "df_5_1_test = pd.read_csv('5_1_testing.csv', sep=',', parse_dates=['trip_start_timestamp'])\n",
    "\n",
    "df.shape\n",
    "\n",
    "y = df[['fare']]\n",
    "X = df.loc[:,['pickup_latitude','pickup_longitude','weekday','hour']]\n",
    "\n",
    "y1=df[['tips']]\n",
    "\n",
    "from sklearn.preprocessing import MinMaxScaler\n",
    "\n",
    "scaler = MinMaxScaler()\n",
    "X_scaler = scaler.fit(X)\n",
    "print(\"max:{}, min:{}\".format(scaler.data_max_, scaler.data_min_))\n",
    "X_mms= scaler.transform(X)\n",
    "\n",
    "x_train,x_test,y_train,y_test = train_test_split(X_mms,y,random_state=42,test_size=0.30)\n",
    "\n",
    "gc.collect()\n",
    "\n",
    "params = {\n",
    "        'boosting_type':'gbdt',\n",
    "        'objective': 'regression',\n",
    "        'nthread': 4,\n",
    "        'num_leaves': 31,\n",
    "        'learning_rate': 0.03,\n",
    "        'max_depth': -1,\n",
    "        'subsample': 0.8,\n",
    "        'bagging_fraction' : 1,\n",
    "        'max_bin' : 5000 ,\n",
    "        'bagging_freq': 20,\n",
    "        'colsample_bytree': 0.6,\n",
    "        'metric': 'rmse',\n",
    "        'min_split_gain': 0.5,\n",
    "        'min_child_weight': 1,\n",
    "        'min_child_samples': 10,\n",
    "        'scale_pos_weight':1,\n",
    "        'zero_as_missing': True,\n",
    "        'seed':0,\n",
    "        'num_rounds':50000\n",
    "    }\n",
    "train_set = lgbm.Dataset(x_train, y_train, silent=False)\n",
    "valid_set = lgbm.Dataset(x_test, y_test, silent=False)\n",
    "model = lgbm.train(params, train_set = train_set, num_boost_round=500,early_stopping_rounds=500,verbose_eval=500, valid_sets=valid_set)\n",
    "gc.collect()\n",
    "\n",
    "x_train,x_test,y1_train,y1_test = train_test_split(X_mms,y1,random_state=42,test_size=0.30)\n",
    "\n",
    "gc.collect()\n",
    "train_set = lgbm.Dataset(x_train, y1_train, silent=False)\n",
    "valid_set = lgbm.Dataset(x_test, y1_test, silent=False)\n",
    "model_1 = lgbm.train(params, train_set = train_set, num_boost_round=500,early_stopping_rounds=500,verbose_eval=500, valid_sets=valid_set)\n",
    "gc.collect()\n",
    "\n",
    "lgbm.plot_importance(model, figsize=(12, 10))\n",
    "\n",
    "submission = model.predict(x_test)\n",
    "submission\n",
    "\n",
    "submission_1 = model_1.predict(x_test)\n",
    "submission_1\n",
    "\n",
    "#fare\n",
    "r2_score(y_test, submission,multioutput='variance_weighted') \n",
    "\n",
    "#tips\n",
    "r2_score(y1_test, submission_1,multioutput='variance_weighted')\n",
    "\n",
    "s3_df_test = df_5_1_test[:]\n",
    "\n",
    "s3_df_test['trip_start_timestamp'] = pd.to_datetime(s3_df_test['trip_start_timestamp'], errors='coerce')\n",
    "\n",
    "s3_df_test['weekday'] = s3_df_test.trip_start_timestamp.apply(lambda t: t.weekday())\n",
    "s3_df_test['hour'] = s3_df_test.trip_start_timestamp.apply(lambda t: t.hour)\n",
    "\n",
    "\n",
    "\n",
    "def predict_fare_3():\n",
    "    \n",
    "    order1_predict = model.predict(s3_df_test.loc[:,['order1_pickup_latitude','order1_pickup_longitude','weekday','hour']])\n",
    "    order2_predict = model.predict(s3_df_test.loc[:,['order2_pickup_latitude','order2_pickup_longitude','weekday','hour']])\n",
    "    order3_predict = model.predict(s3_df_test.loc[:,['order3_pickup_latitude','order3_pickup_longitude','weekday','hour']])\n",
    "    s3_df_test['order1_fare'] = order1_predict\n",
    "    s3_df_test['order2_fare'] = order2_predict\n",
    "    s3_df_test['order3_fare'] = order3_predict\n",
    "\n",
    "def predict_tips_3():\n",
    "    \n",
    "    order1_predict = model_1.predict(s3_df_test.loc[:,['order1_pickup_latitude','order1_pickup_longitude','weekday','hour']])\n",
    "    order2_predict = model_1.predict(s3_df_test.loc[:,['order2_pickup_latitude','order2_pickup_longitude','weekday','hour']])\n",
    "    order3_predict = model_1.predict(s3_df_test.loc[:,['order3_pickup_latitude','order3_pickup_longitude','weekday','hour']])\n",
    "    s3_df_test['order1_tips'] = order1_predict\n",
    "    s3_df_test['order2_tips'] = order2_predict\n",
    "    s3_df_test['order3_tips'] = order3_predict\n",
    "\n",
    "def choose_best_3():\n",
    "    for index, row in s3_df_test.iterrows():\n",
    "        total1 = row['order1_fare'] + row['order1_tips']\n",
    "        total2 = row['order2_fare'] + row['order2_tips']\n",
    "        total3 = row['order3_fare'] + row['order3_tips']\n",
    "        order_total = [total1, total2, total3]\n",
    "        max_total = np.argmax(order_total) + 1\n",
    "        s3_df_test.iloc[index,13]= int(max_total)\n",
    "\n",
    "predict_fare_3()\n",
    "predict_tips_3()\n",
    "choose_best_3()\n",
    "\n",
    "s1_df_test.to_csv('s3_5_1_output.csv', mode='w+', index=False,header=True)\n",
    "\n",
    "s1_df_test\n",
    "\n"
   ]
  }
 ],
 "metadata": {
  "kernelspec": {
   "display_name": "Python 3",
   "language": "python",
   "name": "python3"
  },
  "language_info": {
   "codemirror_mode": {
    "name": "ipython",
    "version": 3
   },
   "file_extension": ".py",
   "mimetype": "text/x-python",
   "name": "python",
   "nbconvert_exporter": "python",
   "pygments_lexer": "ipython3",
   "version": "3.7.4"
  }
 },
 "nbformat": 4,
 "nbformat_minor": 2
}
