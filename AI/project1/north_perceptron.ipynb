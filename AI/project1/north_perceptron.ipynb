{
 "cells": [
  {
   "cell_type": "code",
   "execution_count": 1,
   "metadata": {},
   "outputs": [],
   "source": [
    "import pandas as pd\n",
    "import numpy as np"
   ]
  },
  {
   "cell_type": "code",
   "execution_count": 2,
   "metadata": {},
   "outputs": [],
   "source": [
    "df = pd.read_csv('east.csv', header=None)"
   ]
  },
  {
   "cell_type": "code",
   "execution_count": 3,
   "metadata": {
    "scrolled": true
   },
   "outputs": [],
   "source": [
    "Data = np.array(df.iloc[:,:])"
   ]
  },
  {
   "cell_type": "code",
   "execution_count": 4,
   "metadata": {},
   "outputs": [],
   "source": [
    "X_train = Data[:, :-1]"
   ]
  },
  {
   "cell_type": "code",
   "execution_count": 5,
   "metadata": {},
   "outputs": [],
   "source": [
    "D_train = Data[:,-1]"
   ]
  },
  {
   "cell_type": "code",
   "execution_count": 6,
   "metadata": {},
   "outputs": [],
   "source": [
    "class Model:\n",
    "    def __init__(self, data):\n",
    "        self.w = np.zeros(len(data[0])-1, dtype=np.float32)\n",
    "        self.theta = 0\n",
    "        self.rate = 0.1\n",
    "    \n",
    "    def error_correction(self, X_train, D_train):\n",
    "        flag = False\n",
    "        while not flag:\n",
    "            wrong_count = 0\n",
    "            for i in range(len(X_train)):\n",
    "                x = X_train[i]\n",
    "                d = D_train[i]\n",
    "                print(x, d)\n",
    "                output = 1 if (np.dot(x, self.w) >= self.theta) else 0\n",
    "                if d != output:\n",
    "                    self.w = self.w + self.rate*np.dot(d - output, x)\n",
    "                    self.theta = self.theta + self.rate*(output - d)\n",
    "                    wrong_count += 1\n",
    "            if wrong_count == 0:\n",
    "                flag = True\n",
    "    \n",
    "    def score(self, x_test):\n",
    "        return 1 if (np.dot(x_test, self.w) >= self.theta) else 0"
   ]
  },
  {
   "cell_type": "code",
   "execution_count": 7,
   "metadata": {},
   "outputs": [
    {
     "name": "stdout",
     "output_type": "stream",
     "text": [
      "(array([0, 0, 1, 0, 0, 0, 0, 0]), 1)\n",
      "(array([0, 1, 0, 0, 0, 0, 0, 0]), 1)\n",
      "(array([0, 0, 0, 0, 0, 0, 0, 0]), 0)\n",
      "(array([0, 0, 1, 1, 0, 0, 0, 0]), 0)\n",
      "(array([0, 0, 1, 0, 1, 0, 0, 0]), 0)\n",
      "(array([0, 1, 1, 1, 0, 0, 0, 0]), 0)\n",
      "(array([0, 1, 1, 0, 1, 0, 0, 0]), 0)\n",
      "(array([0, 0, 1, 0, 0, 0, 0, 0]), 1)\n",
      "(array([0, 1, 0, 0, 0, 0, 0, 0]), 1)\n",
      "(array([0, 0, 0, 0, 0, 0, 0, 0]), 0)\n",
      "(array([0, 0, 1, 1, 0, 0, 0, 0]), 0)\n",
      "(array([0, 0, 1, 0, 1, 0, 0, 0]), 0)\n",
      "(array([0, 1, 1, 1, 0, 0, 0, 0]), 0)\n",
      "(array([0, 1, 1, 0, 1, 0, 0, 0]), 0)\n",
      "(array([0, 0, 1, 0, 0, 0, 0, 0]), 1)\n",
      "(array([0, 1, 0, 0, 0, 0, 0, 0]), 1)\n",
      "(array([0, 0, 0, 0, 0, 0, 0, 0]), 0)\n",
      "(array([0, 0, 1, 1, 0, 0, 0, 0]), 0)\n",
      "(array([0, 0, 1, 0, 1, 0, 0, 0]), 0)\n",
      "(array([0, 1, 1, 1, 0, 0, 0, 0]), 0)\n",
      "(array([0, 1, 1, 0, 1, 0, 0, 0]), 0)\n",
      "(array([0, 0, 1, 0, 0, 0, 0, 0]), 1)\n",
      "(array([0, 1, 0, 0, 0, 0, 0, 0]), 1)\n",
      "(array([0, 0, 0, 0, 0, 0, 0, 0]), 0)\n",
      "(array([0, 0, 1, 1, 0, 0, 0, 0]), 0)\n",
      "(array([0, 0, 1, 0, 1, 0, 0, 0]), 0)\n",
      "(array([0, 1, 1, 1, 0, 0, 0, 0]), 0)\n",
      "(array([0, 1, 1, 0, 1, 0, 0, 0]), 0)\n",
      "(array([0, 0, 1, 0, 0, 0, 0, 0]), 1)\n",
      "(array([0, 1, 0, 0, 0, 0, 0, 0]), 1)\n",
      "(array([0, 0, 0, 0, 0, 0, 0, 0]), 0)\n",
      "(array([0, 0, 1, 1, 0, 0, 0, 0]), 0)\n",
      "(array([0, 0, 1, 0, 1, 0, 0, 0]), 0)\n",
      "(array([0, 1, 1, 1, 0, 0, 0, 0]), 0)\n",
      "(array([0, 1, 1, 0, 1, 0, 0, 0]), 0)\n",
      "(array([0, 0, 1, 0, 0, 0, 0, 0]), 1)\n",
      "(array([0, 1, 0, 0, 0, 0, 0, 0]), 1)\n",
      "(array([0, 0, 0, 0, 0, 0, 0, 0]), 0)\n",
      "(array([0, 0, 1, 1, 0, 0, 0, 0]), 0)\n",
      "(array([0, 0, 1, 0, 1, 0, 0, 0]), 0)\n",
      "(array([0, 1, 1, 1, 0, 0, 0, 0]), 0)\n",
      "(array([0, 1, 1, 0, 1, 0, 0, 0]), 0)\n",
      "(array([0, 0, 1, 0, 0, 0, 0, 0]), 1)\n",
      "(array([0, 1, 0, 0, 0, 0, 0, 0]), 1)\n",
      "(array([0, 0, 0, 0, 0, 0, 0, 0]), 0)\n",
      "(array([0, 0, 1, 1, 0, 0, 0, 0]), 0)\n",
      "(array([0, 0, 1, 0, 1, 0, 0, 0]), 0)\n",
      "(array([0, 1, 1, 1, 0, 0, 0, 0]), 0)\n",
      "(array([0, 1, 1, 0, 1, 0, 0, 0]), 0)\n"
     ]
    }
   ],
   "source": [
    "perceptron = Model(Data)\n",
    "perceptron.error_correction(X_train, D_train)"
   ]
  },
  {
   "cell_type": "code",
   "execution_count": 8,
   "metadata": {},
   "outputs": [
    {
     "data": {
      "text/plain": [
       "0"
      ]
     },
     "execution_count": 8,
     "metadata": {},
     "output_type": "execute_result"
    }
   ],
   "source": [
    "sense = [1,1,1,0,1,1,1,0]\n",
    "perceptron.score(sense)"
   ]
  },
  {
   "cell_type": "code",
   "execution_count": null,
   "metadata": {},
   "outputs": [],
   "source": []
  }
 ],
 "metadata": {
  "kernelspec": {
   "display_name": "Python 2",
   "language": "python",
   "name": "python2"
  },
  "language_info": {
   "codemirror_mode": {
    "name": "ipython",
    "version": 2
   },
   "file_extension": ".py",
   "mimetype": "text/x-python",
   "name": "python",
   "nbconvert_exporter": "python",
   "pygments_lexer": "ipython2",
   "version": "2.7.16"
  }
 },
 "nbformat": 4,
 "nbformat_minor": 2
}
