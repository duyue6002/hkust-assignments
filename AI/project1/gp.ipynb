{
 "cells": [
  {
   "cell_type": "code",
   "execution_count": 1,
   "metadata": {},
   "outputs": [],
   "source": [
    "import pandas as pd\n",
    "import numpy as np\n",
    "M = 5000\n",
    "N = 9\n",
    "pc = 0.9\n",
    "pm = 0.7\n",
    "gen = 1000"
   ]
  },
  {
   "cell_type": "code",
   "execution_count": 2,
   "metadata": {},
   "outputs": [],
   "source": [
    "random_data = np.random.uniform(-4,4,size=(M,N+1))\n",
    "initial_pop = random_data[:,:9]\n",
    "theta = random_data[:,9]"
   ]
  },
  {
   "cell_type": "code",
   "execution_count": 3,
   "metadata": {},
   "outputs": [],
   "source": [
    "df = pd.read_csv('gp-training-set.csv', header=None)"
   ]
  },
  {
   "cell_type": "code",
   "execution_count": 4,
   "metadata": {},
   "outputs": [],
   "source": [
    "data = np.array(df.iloc[:, :])\n",
    "X_train, D_train = data[:, :-1], data[:, -1]\n",
    "data_scale = len(X_train)"
   ]
  },
  {
   "cell_type": "code",
   "execution_count": 5,
   "metadata": {},
   "outputs": [],
   "source": [
    "def fitness_function(pop):\n",
    "    fitness = []\n",
    "    for i in range(len(pop)):\n",
    "        good = 0\n",
    "        for j in range(len(X_train)):\n",
    "            x = X_train[j]\n",
    "            d = D_train[j]\n",
    "            output = 1 if (np.dot(x, pop[i]) >= theta[i]) else 0\n",
    "            if d == output:\n",
    "                good += 1\n",
    "        fitness.append(good)\n",
    "    return fitness"
   ]
  },
  {
   "cell_type": "code",
   "execution_count": 6,
   "metadata": {},
   "outputs": [],
   "source": [
    "def selection(fitness, pop):\n",
    "    arr = np.argsort(fitness)[::-1]\n",
    "    select_pop = np.zeros((M/2,N))\n",
    "    for i in range(len(arr)/2):\n",
    "        select_pop[i] = pop[arr[i]]\n",
    "    return select_pop"
   ]
  },
  {
   "cell_type": "code",
   "execution_count": 7,
   "metadata": {},
   "outputs": [],
   "source": [
    "def crossover(pc,pop):\n",
    "    crossover_pop = pop.copy()\n",
    "    for i in range(len(pop)-1):\n",
    "        if (np.random.rand() < pc):\n",
    "            j = int(np.random.rand()*(N))\n",
    "            crossover_pop[i,j:] = pop[i+1,j:]\n",
    "    return crossover_pop"
   ]
  },
  {
   "cell_type": "code",
   "execution_count": 8,
   "metadata": {},
   "outputs": [],
   "source": [
    "def mutation(pm, pop):\n",
    "    mutation_pop = pop.copy()\n",
    "    for i in range(len(mutation_pop)):\n",
    "        if (np.random.rand() < pm):\n",
    "            j = int(np.random.rand()*(N))\n",
    "            mutation_pop[i,j] = pop[i,j] + np.random.uniform(-1,1)\n",
    "    return mutation_pop"
   ]
  },
  {
   "cell_type": "code",
   "execution_count": 9,
   "metadata": {},
   "outputs": [],
   "source": [
    "def generation(gen, pop):\n",
    "    result_pop = np.zeros(N)\n",
    "    max_data = 0\n",
    "    for i in range(gen):\n",
    "        fitness = fitness_function(pop)\n",
    "        if max(fitness) > max_data:\n",
    "            max_data = max(fitness)\n",
    "            result_index = fitness.index(max_data)\n",
    "            result_pop = pop[result_index]\n",
    "            if max_data == data_scale:\n",
    "                return [result_pop, result_index]\n",
    "        else:\n",
    "            select_pop = selection(fitness, pop)\n",
    "            crossover_pop = crossover(pc, select_pop)\n",
    "            mutation_pop = mutation(pm, crossover_pop)\n",
    "            length = len(pop)\n",
    "            pop[0:length/2] = select_pop[:]\n",
    "            pop[length/2:length] = mutation_pop[:]\n",
    "    return 'failed'"
   ]
  },
  {
   "cell_type": "code",
   "execution_count": 10,
   "metadata": {},
   "outputs": [],
   "source": [
    "[w, index] = generation(gen, initial_pop)"
   ]
  },
  {
   "cell_type": "code",
   "execution_count": 11,
   "metadata": {},
   "outputs": [],
   "source": [
    "def test():\n",
    "    wrong_count = 0\n",
    "    for i in range(len(X_train)):\n",
    "        x = X_train[i]\n",
    "        d = D_train[i]\n",
    "        output = 1 if (np.dot(x, w) >= theta[index]) else 0\n",
    "        if d != output:\n",
    "            wrong += 1\n",
    "    return 'success' if wrong_count == 0 else 'failed'"
   ]
  },
  {
   "cell_type": "code",
   "execution_count": 13,
   "metadata": {},
   "outputs": [
    {
     "data": {
      "text/plain": [
       "'success'"
      ]
     },
     "execution_count": 13,
     "metadata": {},
     "output_type": "execute_result"
    }
   ],
   "source": [
    "test()"
   ]
  },
  {
   "cell_type": "code",
   "execution_count": null,
   "metadata": {},
   "outputs": [],
   "source": []
  }
 ],
 "metadata": {
  "kernelspec": {
   "display_name": "Python 2",
   "language": "python",
   "name": "python2"
  },
  "language_info": {
   "codemirror_mode": {
    "name": "ipython",
    "version": 2
   },
   "file_extension": ".py",
   "mimetype": "text/x-python",
   "name": "python",
   "nbconvert_exporter": "python",
   "pygments_lexer": "ipython2",
   "version": "2.7.16"
  }
 },
 "nbformat": 4,
 "nbformat_minor": 2
}
